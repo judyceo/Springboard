{
 "cells": [
  {
   "cell_type": "markdown",
   "metadata": {},
   "source": [
    "## Summary\n",
    "\n",
    "### The data file contains one full day of impression logs for selected IP addresses. The fields are, in order:\n",
    "1. Timestamp\n",
    "2. IP address\n",
    "3. Detected browser type\n",
    "4. User agent string\n",
    "5. Domain (URL)\n",
    "6. Whether the impression was in view (1.0 = yes, 0.0 = no)\n",
    "7. Number of plugins installed\n",
    "8. Browser window position and size (x, y, width, height)\n",
    "9. Network latency\n",
    "\n",
    "### The task is to identify domains which are receiving a substantial amount of fraudulent traffic. \n",
    "\n",
    "### I looked at a bunch of stuff, none of which yielded any distinct signature until I plotted mean time between consecutive visits and number of visits from a particular IP address.   Here you'll see some clustering and distinct outliers.  I believe that this might be a good clustering problem.  See graphs below.\n",
    "\n"
   ]
  },
  {
   "cell_type": "code",
   "execution_count": 202,
   "metadata": {
    "collapsed": false
   },
   "outputs": [],
   "source": [
    "import matplotlib\n",
    "import matplotlib.pyplot as plt\n",
    "import numpy as np\n",
    "import pandas as pd\n",
    "import math\n",
    "\n",
    "%matplotlib inline"
   ]
  },
  {
   "cell_type": "markdown",
   "metadata": {},
   "source": [
    "# Read and wrangle data file"
   ]
  },
  {
   "cell_type": "code",
   "execution_count": 715,
   "metadata": {
    "collapsed": false,
    "scrolled": true
   },
   "outputs": [
    {
     "data": {
      "text/html": [
       "<div>\n",
       "<table border=\"1\" class=\"dataframe\">\n",
       "  <thead>\n",
       "    <tr style=\"text-align: right;\">\n",
       "      <th></th>\n",
       "      <th>2014-08-25 00:00:00</th>\n",
       "      <th>101.171.127.230</th>\n",
       "      <th>Safari/Webkit</th>\n",
       "      <th>Mozilla/5.0 (Macintosh; Intel Mac OS X 10_6_8) AppleWebKit/534.59.10 (KHTML, like Gecko) Version/5.1.9 Safari/534.59.10</th>\n",
       "      <th>http://www.domain.com.au</th>\n",
       "      <th>0.0</th>\n",
       "      <th>Unnamed: 6</th>\n",
       "      <th>(0,0,1280,629)</th>\n",
       "      <th>0</th>\n",
       "    </tr>\n",
       "  </thead>\n",
       "  <tbody>\n",
       "    <tr>\n",
       "      <th>0</th>\n",
       "      <td>2014-08-25 00:00:00</td>\n",
       "      <td>101.171.127.230</td>\n",
       "      <td>Safari/Webkit</td>\n",
       "      <td>Mozilla/5.0 (Macintosh; Intel Mac OS X 10_6_8)...</td>\n",
       "      <td>http://www.domain.com.au</td>\n",
       "      <td>0</td>\n",
       "      <td>NaN</td>\n",
       "      <td>(0,0,1280,629)</td>\n",
       "      <td>0</td>\n",
       "    </tr>\n",
       "    <tr>\n",
       "      <th>1</th>\n",
       "      <td>2014-08-25 00:00:00</td>\n",
       "      <td>71.174.104.12</td>\n",
       "      <td>Unknown</td>\n",
       "      <td>Mozilla/5.0 (Windows NT 6.1; WOW64) AppleWebKi...</td>\n",
       "      <td>http://www.mangareader.net</td>\n",
       "      <td>NaN</td>\n",
       "      <td>NaN</td>\n",
       "      <td>NaN</td>\n",
       "      <td>NaN</td>\n",
       "    </tr>\n",
       "    <tr>\n",
       "      <th>2</th>\n",
       "      <td>2014-08-25 00:00:00</td>\n",
       "      <td>71.174.104.12</td>\n",
       "      <td>Unknown</td>\n",
       "      <td>Mozilla/5.0 (Windows NT 6.1; WOW64) AppleWebKi...</td>\n",
       "      <td>http://www.mangareader.net</td>\n",
       "      <td>NaN</td>\n",
       "      <td>NaN</td>\n",
       "      <td>NaN</td>\n",
       "      <td>NaN</td>\n",
       "    </tr>\n",
       "  </tbody>\n",
       "</table>\n",
       "</div>"
      ],
      "text/plain": [
       "   2014-08-25 00:00:00  101.171.127.230  Safari/Webkit  \\\n",
       "0  2014-08-25 00:00:00  101.171.127.230  Safari/Webkit   \n",
       "1  2014-08-25 00:00:00    71.174.104.12        Unknown   \n",
       "2  2014-08-25 00:00:00    71.174.104.12        Unknown   \n",
       "\n",
       "  Mozilla/5.0 (Macintosh; Intel Mac OS X 10_6_8) AppleWebKit/534.59.10 (KHTML, like Gecko) Version/5.1.9 Safari/534.59.10  \\\n",
       "0  Mozilla/5.0 (Macintosh; Intel Mac OS X 10_6_8)...                                                                        \n",
       "1  Mozilla/5.0 (Windows NT 6.1; WOW64) AppleWebKi...                                                                        \n",
       "2  Mozilla/5.0 (Windows NT 6.1; WOW64) AppleWebKi...                                                                        \n",
       "\n",
       "     http://www.domain.com.au  0.0  Unnamed: 6  (0,0,1280,629)   0  \n",
       "0    http://www.domain.com.au    0         NaN  (0,0,1280,629)   0  \n",
       "1  http://www.mangareader.net  NaN         NaN             NaN NaN  \n",
       "2  http://www.mangareader.net  NaN         NaN             NaN NaN  "
      ]
     },
     "execution_count": 715,
     "metadata": {},
     "output_type": "execute_result"
    }
   ],
   "source": [
    "first_line_raw = pd.read_csv('fraud.event',delimiter='\\t',nrows=3)\n",
    "first_line_raw"
   ]
  },
  {
   "cell_type": "code",
   "execution_count": 46,
   "metadata": {
    "collapsed": false
   },
   "outputs": [
    {
     "data": {
      "text/plain": [
       "2014-08-25 00:00:00\\t101.171.127.230\\tSafari/Webkit\\tMozilla/5.0 (Macintosh; Intel Mac OS X 10_6_8) AppleWebKit/534.59.10 (KHTML, like Gecko) Version/5.1.9 Safari/534.59.10\\thttp://www.domain.com.au\\t0.0\\t\\t(0,0,1280,629)\\t0    [2014-08-25 00:00:00, 101.171.127.230, Safari/...\n",
       "dtype: object"
      ]
     },
     "execution_count": 46,
     "metadata": {},
     "output_type": "execute_result"
    }
   ],
   "source": [
    "first_line_raw.iloc[0].str.split('\\t')"
   ]
  },
  {
   "cell_type": "raw",
   "metadata": {},
   "source": []
  },
  {
   "cell_type": "code",
   "execution_count": 57,
   "metadata": {
    "collapsed": false
   },
   "outputs": [
    {
     "data": {
      "text/plain": [
       "['Timestamp',\n",
       " 'IP_address',\n",
       " 'Browser_type',\n",
       " 'User_agent',\n",
       " 'URL',\n",
       " 'In_view',\n",
       " 'Plugins',\n",
       " 'Position_size',\n",
       " 'Latency']"
      ]
     },
     "execution_count": 57,
     "metadata": {},
     "output_type": "execute_result"
    }
   ],
   "source": [
    "columns = ['Timestamp', 'IP_address', 'Browser_type', 'User_agent','URL', 'In_view', 'Plugins', 'Position_size','Latency']\n",
    "columns"
   ]
  },
  {
   "cell_type": "code",
   "execution_count": 646,
   "metadata": {
    "collapsed": false
   },
   "outputs": [
    {
     "data": {
      "text/html": [
       "<div>\n",
       "<table border=\"1\" class=\"dataframe\">\n",
       "  <thead>\n",
       "    <tr style=\"text-align: right;\">\n",
       "      <th></th>\n",
       "      <th>Timestamp</th>\n",
       "      <th>IP_address</th>\n",
       "      <th>Browser_type</th>\n",
       "      <th>User_agent</th>\n",
       "      <th>URL</th>\n",
       "      <th>In_view</th>\n",
       "      <th>Plugins</th>\n",
       "      <th>Position_size</th>\n",
       "      <th>Latency</th>\n",
       "    </tr>\n",
       "  </thead>\n",
       "  <tbody>\n",
       "    <tr>\n",
       "      <th>235080</th>\n",
       "      <td>2014-08-25 23:59:56</td>\n",
       "      <td>71.59.231.50</td>\n",
       "      <td>Unknown</td>\n",
       "      <td>Mozilla/5.0 (Macintosh; Intel Mac OS X 10_9_4)...</td>\n",
       "      <td>http://pixel.adsafeprotected.com</td>\n",
       "      <td>NaN</td>\n",
       "      <td>NaN</td>\n",
       "      <td>NaN</td>\n",
       "      <td>NaN</td>\n",
       "    </tr>\n",
       "    <tr>\n",
       "      <th>235081</th>\n",
       "      <td>2014-08-25 23:59:58</td>\n",
       "      <td>66.188.92.172</td>\n",
       "      <td>Chrome</td>\n",
       "      <td>Mozilla/5.0 (X11; CrOS x86_64 5841.98.0) Apple...</td>\n",
       "      <td>http://www.realtor.com</td>\n",
       "      <td>1</td>\n",
       "      <td>9</td>\n",
       "      <td>NaN</td>\n",
       "      <td>170</td>\n",
       "    </tr>\n",
       "    <tr>\n",
       "      <th>235082</th>\n",
       "      <td>2014-08-25 23:59:58</td>\n",
       "      <td>73.166.186.214</td>\n",
       "      <td>Safari/Webkit</td>\n",
       "      <td>Mozilla/5.0 (iPhone; CPU iPhone OS 7_1_2 like ...</td>\n",
       "      <td>http://www.viralnova.com</td>\n",
       "      <td>0</td>\n",
       "      <td>1</td>\n",
       "      <td>(0,0,320,372)</td>\n",
       "      <td>0</td>\n",
       "    </tr>\n",
       "  </tbody>\n",
       "</table>\n",
       "</div>"
      ],
      "text/plain": [
       "                  Timestamp      IP_address   Browser_type  \\\n",
       "235080  2014-08-25 23:59:56    71.59.231.50        Unknown   \n",
       "235081  2014-08-25 23:59:58   66.188.92.172         Chrome   \n",
       "235082  2014-08-25 23:59:58  73.166.186.214  Safari/Webkit   \n",
       "\n",
       "                                               User_agent  \\\n",
       "235080  Mozilla/5.0 (Macintosh; Intel Mac OS X 10_9_4)...   \n",
       "235081  Mozilla/5.0 (X11; CrOS x86_64 5841.98.0) Apple...   \n",
       "235082  Mozilla/5.0 (iPhone; CPU iPhone OS 7_1_2 like ...   \n",
       "\n",
       "                                     URL  In_view  Plugins  Position_size  \\\n",
       "235080  http://pixel.adsafeprotected.com      NaN      NaN            NaN   \n",
       "235081            http://www.realtor.com        1        9            NaN   \n",
       "235082          http://www.viralnova.com        0        1  (0,0,320,372)   \n",
       "\n",
       "        Latency  \n",
       "235080      NaN  \n",
       "235081      170  \n",
       "235082        0  "
      ]
     },
     "execution_count": 646,
     "metadata": {},
     "output_type": "execute_result"
    }
   ],
   "source": [
    "test = pd.read_csv('fraud.event',delimiter='\\t',names=columns,header=None)\n",
    "test.tail(3)"
   ]
  },
  {
   "cell_type": "code",
   "execution_count": null,
   "metadata": {
    "collapsed": true
   },
   "outputs": [],
   "source": []
  },
  {
   "cell_type": "markdown",
   "metadata": {},
   "source": [
    "# Set up training data"
   ]
  },
  {
   "cell_type": "code",
   "execution_count": 610,
   "metadata": {
    "collapsed": false
   },
   "outputs": [],
   "source": [
    "train = pd.Series(['featureplay.com',\n",
    "'uvidi.com',\n",
    "'spryliving.com',\n",
    "'greatxboxgames.com',\n",
    "'mmabay.co.uk',\n",
    "'workingmothertv.com',\n",
    "'besthorrorgame.com',\n",
    "'dailyparent.com',\n",
    "'superior-movies.com',\n",
    "'yourhousedesign.com',\n",
    "'outdoorlife.tv',\n",
    "'drumclub.info',\n",
    "'cycleworld.tv',\n",
    "'hmnp.us',\n",
    "'nlinevideos.com'])\n",
    "#train = (lambda i: train[i].str.cat('http://www.') \n",
    "for i in range(len(train)):\n",
    "    train[i] = 'http://www.' + train[i]"
   ]
  },
  {
   "cell_type": "code",
   "execution_count": 625,
   "metadata": {
    "collapsed": false
   },
   "outputs": [
    {
     "data": {
      "text/plain": [
       "URL\n",
       "http://www.featureplay.com    560\n",
       "http://www.mmabay.co.uk       123\n",
       "http://www.uvidi.com          294\n",
       "dtype: int64"
      ]
     },
     "execution_count": 625,
     "metadata": {},
     "output_type": "execute_result"
    }
   ],
   "source": [
    "bad_urls_test = test[test.URL.isin(train)].groupby('URL')\n",
    "bad_urls_test.size()\n"
   ]
  },
  {
   "cell_type": "markdown",
   "metadata": {},
   "source": [
    "### Hmmm... there are only 3 websites we were given that had data..."
   ]
  },
  {
   "cell_type": "markdown",
   "metadata": {},
   "source": [
    "# Now let's sort this dataframe according to URLs."
   ]
  },
  {
   "cell_type": "code",
   "execution_count": 674,
   "metadata": {
    "collapsed": false
   },
   "outputs": [],
   "source": [
    "sorted_urls = test.groupby('URL').agg(lambda x: list(x)).reset_index()\n"
   ]
  },
  {
   "cell_type": "code",
   "execution_count": 717,
   "metadata": {
    "collapsed": false
   },
   "outputs": [
    {
     "data": {
      "text/html": [
       "<div>\n",
       "<table border=\"1\" class=\"dataframe\">\n",
       "  <thead>\n",
       "    <tr style=\"text-align: right;\">\n",
       "      <th></th>\n",
       "      <th>URL</th>\n",
       "      <th>Timestamp</th>\n",
       "      <th>IP_address</th>\n",
       "      <th>Browser_type</th>\n",
       "      <th>User_agent</th>\n",
       "      <th>In_view</th>\n",
       "      <th>Plugins</th>\n",
       "      <th>Position_size</th>\n",
       "      <th>Latency</th>\n",
       "    </tr>\n",
       "  </thead>\n",
       "  <tbody>\n",
       "    <tr>\n",
       "      <th>11776</th>\n",
       "      <td>http://zoomboomerz.deviantart.com</td>\n",
       "      <td>[2014-08-25 23:15:35]</td>\n",
       "      <td>[68.106.209.234]</td>\n",
       "      <td>[Unknown]</td>\n",
       "      <td>[Mozilla/5.0 (Windows NT 6.1; WOW64) AppleWebK...</td>\n",
       "      <td>[nan]</td>\n",
       "      <td>[nan]</td>\n",
       "      <td>[nan]</td>\n",
       "      <td>[nan]</td>\n",
       "    </tr>\n",
       "    <tr>\n",
       "      <th>11777</th>\n",
       "      <td>http://zui.scornews.com</td>\n",
       "      <td>[2014-08-25 11:57:39, 2014-08-25 15:18:07]</td>\n",
       "      <td>[54.183.195.200, 54.183.195.200]</td>\n",
       "      <td>[Internet Explorer, Internet Explorer]</td>\n",
       "      <td>[Mozilla/5.0 (Windows; U; Windows NT 6.1; zh-C...</td>\n",
       "      <td>[0.0, 0.0]</td>\n",
       "      <td>[nan, nan]</td>\n",
       "      <td>[nan, nan]</td>\n",
       "      <td>[0.0, 0.0]</td>\n",
       "    </tr>\n",
       "    <tr>\n",
       "      <th>11778</th>\n",
       "      <td>http://zynga.com</td>\n",
       "      <td>[2014-08-25 00:03:41, 2014-08-25 00:07:43, 201...</td>\n",
       "      <td>[184.53.39.213, 184.53.39.213, 151.224.175.1, ...</td>\n",
       "      <td>[Chrome, Chrome, Unknown, Chrome, Chrome, Unkn...</td>\n",
       "      <td>[Mozilla/5.0 (Windows NT 6.3; WOW64) AppleWebK...</td>\n",
       "      <td>[1.0, 0.0, nan, 1.0, 0.0, nan, 0.0, 0.0, 1.0, ...</td>\n",
       "      <td>[10.0, 10.0, nan, 10.0, 10.0, nan, 7.0, 7.0, 1...</td>\n",
       "      <td>[nan, nan, nan, nan, nan, nan, (16,8,1330,720)...</td>\n",
       "      <td>[0.0, 0.0, nan, 1629.0, 0.0, nan, 0.0, 0.0, 20...</td>\n",
       "    </tr>\n",
       "  </tbody>\n",
       "</table>\n",
       "</div>"
      ],
      "text/plain": [
       "                                     URL  \\\n",
       "11776  http://zoomboomerz.deviantart.com   \n",
       "11777            http://zui.scornews.com   \n",
       "11778                   http://zynga.com   \n",
       "\n",
       "                                               Timestamp  \\\n",
       "11776                              [2014-08-25 23:15:35]   \n",
       "11777         [2014-08-25 11:57:39, 2014-08-25 15:18:07]   \n",
       "11778  [2014-08-25 00:03:41, 2014-08-25 00:07:43, 201...   \n",
       "\n",
       "                                              IP_address  \\\n",
       "11776                                   [68.106.209.234]   \n",
       "11777                   [54.183.195.200, 54.183.195.200]   \n",
       "11778  [184.53.39.213, 184.53.39.213, 151.224.175.1, ...   \n",
       "\n",
       "                                            Browser_type  \\\n",
       "11776                                          [Unknown]   \n",
       "11777             [Internet Explorer, Internet Explorer]   \n",
       "11778  [Chrome, Chrome, Unknown, Chrome, Chrome, Unkn...   \n",
       "\n",
       "                                              User_agent  \\\n",
       "11776  [Mozilla/5.0 (Windows NT 6.1; WOW64) AppleWebK...   \n",
       "11777  [Mozilla/5.0 (Windows; U; Windows NT 6.1; zh-C...   \n",
       "11778  [Mozilla/5.0 (Windows NT 6.3; WOW64) AppleWebK...   \n",
       "\n",
       "                                                 In_view  \\\n",
       "11776                                              [nan]   \n",
       "11777                                         [0.0, 0.0]   \n",
       "11778  [1.0, 0.0, nan, 1.0, 0.0, nan, 0.0, 0.0, 1.0, ...   \n",
       "\n",
       "                                                 Plugins  \\\n",
       "11776                                              [nan]   \n",
       "11777                                         [nan, nan]   \n",
       "11778  [10.0, 10.0, nan, 10.0, 10.0, nan, 7.0, 7.0, 1...   \n",
       "\n",
       "                                           Position_size  \\\n",
       "11776                                              [nan]   \n",
       "11777                                         [nan, nan]   \n",
       "11778  [nan, nan, nan, nan, nan, nan, (16,8,1330,720)...   \n",
       "\n",
       "                                                 Latency  \n",
       "11776                                              [nan]  \n",
       "11777                                         [0.0, 0.0]  \n",
       "11778  [0.0, 0.0, nan, 1629.0, 0.0, nan, 0.0, 0.0, 20...  "
      ]
     },
     "execution_count": 717,
     "metadata": {},
     "output_type": "execute_result"
    }
   ],
   "source": [
    "sorted_urls.tail(3)"
   ]
  },
  {
   "cell_type": "code",
   "execution_count": null,
   "metadata": {
    "collapsed": true
   },
   "outputs": [],
   "source": []
  },
  {
   "cell_type": "code",
   "execution_count": 677,
   "metadata": {
    "collapsed": false
   },
   "outputs": [
    {
     "data": {
      "text/html": [
       "<div>\n",
       "<table border=\"1\" class=\"dataframe\">\n",
       "  <thead>\n",
       "    <tr style=\"text-align: right;\">\n",
       "      <th></th>\n",
       "      <th>URL</th>\n",
       "      <th>Timestamp</th>\n",
       "      <th>IP_address</th>\n",
       "      <th>Browser_type</th>\n",
       "      <th>User_agent</th>\n",
       "      <th>In_view</th>\n",
       "      <th>Plugins</th>\n",
       "      <th>Position_size</th>\n",
       "      <th>Latency</th>\n",
       "    </tr>\n",
       "  </thead>\n",
       "  <tbody>\n",
       "    <tr>\n",
       "      <th>11772</th>\n",
       "      <td>http://zillow.com</td>\n",
       "      <td>[2014-08-25 00:29:46, 2014-08-25 00:35:48, 201...</td>\n",
       "      <td>[72.70.131.182, 72.70.131.182, 72.70.131.182, ...</td>\n",
       "      <td>[Internet Explorer, Internet Explorer, Interne...</td>\n",
       "      <td>[Mozilla/5.0 (compatible; MSIE 9.0; Windows NT...</td>\n",
       "      <td>[0.0, 0.0, 0.0, 0.0, 0.0, 0.0, 0.0]</td>\n",
       "      <td>[nan, nan, nan, 16.0, nan, 14.0, nan]</td>\n",
       "      <td>[nan, nan, nan, nan, nan, nan, (-8,-8,1616,876)]</td>\n",
       "      <td>[0.0, 0.0, 0.0, nan, 0.0, 281.0, 261.0]</td>\n",
       "    </tr>\n",
       "  </tbody>\n",
       "</table>\n",
       "</div>"
      ],
      "text/plain": [
       "                     URL                                          Timestamp  \\\n",
       "11772  http://zillow.com  [2014-08-25 00:29:46, 2014-08-25 00:35:48, 201...   \n",
       "\n",
       "                                              IP_address  \\\n",
       "11772  [72.70.131.182, 72.70.131.182, 72.70.131.182, ...   \n",
       "\n",
       "                                            Browser_type  \\\n",
       "11772  [Internet Explorer, Internet Explorer, Interne...   \n",
       "\n",
       "                                              User_agent  \\\n",
       "11772  [Mozilla/5.0 (compatible; MSIE 9.0; Windows NT...   \n",
       "\n",
       "                                   In_view  \\\n",
       "11772  [0.0, 0.0, 0.0, 0.0, 0.0, 0.0, 0.0]   \n",
       "\n",
       "                                     Plugins  \\\n",
       "11772  [nan, nan, nan, 16.0, nan, 14.0, nan]   \n",
       "\n",
       "                                          Position_size  \\\n",
       "11772  [nan, nan, nan, nan, nan, nan, (-8,-8,1616,876)]   \n",
       "\n",
       "                                       Latency  \n",
       "11772  [0.0, 0.0, 0.0, nan, 0.0, 281.0, 261.0]  "
      ]
     },
     "execution_count": 677,
     "metadata": {},
     "output_type": "execute_result"
    }
   ],
   "source": [
    "zillow = sorted_urls[sorted_urls.URL=='http://zillow.com']\n",
    "zillow\n"
   ]
  },
  {
   "cell_type": "code",
   "execution_count": null,
   "metadata": {
    "collapsed": true
   },
   "outputs": [],
   "source": []
  },
  {
   "cell_type": "code",
   "execution_count": 678,
   "metadata": {
    "collapsed": false
   },
   "outputs": [
    {
     "data": {
      "text/plain": [
       "7"
      ]
     },
     "execution_count": 678,
     "metadata": {},
     "output_type": "execute_result"
    }
   ],
   "source": [
    "len(zillow.IP_address.iloc[0])"
   ]
  },
  {
   "cell_type": "code",
   "execution_count": 679,
   "metadata": {
    "collapsed": false
   },
   "outputs": [
    {
     "name": "stdout",
     "output_type": "stream",
     "text": [
      "URL\n",
      "ERROR                                                            138\n",
      "http://%5bfox.com                                                  5\n",
      "http://.cooks.com/ros/728x90/jx/domain/.cooks.com                  1\n",
      "http://.dailymotion.com/ros/728x90/jx/domain/.dailymotion.com      1\n",
      "http://.pandora.com/ros/300x250/jx/domain/.pandora.com             1\n",
      "dtype: int64\n"
     ]
    },
    {
     "data": {
      "text/plain": [
       "11779"
      ]
     },
     "execution_count": 679,
     "metadata": {},
     "output_type": "execute_result"
    }
   ],
   "source": [
    "url_hits = urls.size()\n",
    "print(url_hits.head(5))\n",
    "len(url_hits)"
   ]
  },
  {
   "cell_type": "code",
   "execution_count": 680,
   "metadata": {
    "collapsed": false
   },
   "outputs": [
    {
     "name": "stdout",
     "output_type": "stream",
     "text": [
      "Min hits: 1 Max hits: 20548 Avg hits: 19.957806265387553\n",
      "Sites with most number of visits\n"
     ]
    },
    {
     "data": {
      "text/plain": [
       "URL\n",
       "http://www.pandora.com               2949\n",
       "http://www.ebay.co.uk                3012\n",
       "http://www.answers.com               3791\n",
       "http://fw.adsafeprotected.com       11942\n",
       "http://pixel.adsafeprotected.com    20548\n",
       "dtype: int64"
      ]
     },
     "execution_count": 680,
     "metadata": {},
     "output_type": "execute_result"
    }
   ],
   "source": [
    "# Take out ERROR line\n",
    "#url_hits = url_hits.drop('ERROR')\n",
    "print('Min hits:',url_hits.min(),'Max hits:',url_hits.max(),'Avg hits:',url_hits.mean())\n",
    "url_hits_sorted = url_hits.sort_values()\n",
    "print('Sites with most number of visits')\n",
    "url_hits_sorted.tail(5)"
   ]
  },
  {
   "cell_type": "markdown",
   "metadata": {},
   "source": [
    "### Some of these numbers are suspiciously large but some of them may be legitimate due to popularity of websites.  At this point, we don't know."
   ]
  },
  {
   "cell_type": "code",
   "execution_count": 719,
   "metadata": {
    "collapsed": false
   },
   "outputs": [
    {
     "data": {
      "text/html": [
       "<div>\n",
       "<table border=\"1\" class=\"dataframe\">\n",
       "  <thead>\n",
       "    <tr style=\"text-align: right;\">\n",
       "      <th></th>\n",
       "      <th>URL</th>\n",
       "      <th>Timestamp</th>\n",
       "      <th>IP_address</th>\n",
       "      <th>Browser_type</th>\n",
       "      <th>User_agent</th>\n",
       "      <th>In_view</th>\n",
       "      <th>Plugins</th>\n",
       "      <th>Position_size</th>\n",
       "      <th>Latency</th>\n",
       "    </tr>\n",
       "  </thead>\n",
       "  <tbody>\n",
       "    <tr>\n",
       "      <th>4100</th>\n",
       "      <td>http://pixel.adsafeprotected.com</td>\n",
       "      <td>[2014-08-25 00:00:16, 2014-08-25 00:00:21, 201...</td>\n",
       "      <td>[70.194.132.4, 77.105.183.211, 67.2.80.14, 71....</td>\n",
       "      <td>[Safari/Webkit, Safari/Webkit, Internet Explor...</td>\n",
       "      <td>[Mozilla/5.0 (Linux; Android 4.4.4; XT1080 Bui...</td>\n",
       "      <td>[1.0, 0.0, 1.0, nan, 0.0, 1.0, nan, 0.0, 0.0, ...</td>\n",
       "      <td>[nan, nan, nan, nan, 1.0, 1.0, nan, nan, nan, ...</td>\n",
       "      <td>[(0,0,320,272), nan, nan, nan, (0,0,728,90), (...</td>\n",
       "      <td>[0.0, 0.0, 364.0, nan, 0.0, 0.0, nan, 0.0, nan...</td>\n",
       "    </tr>\n",
       "  </tbody>\n",
       "</table>\n",
       "</div>"
      ],
      "text/plain": [
       "                                   URL  \\\n",
       "4100  http://pixel.adsafeprotected.com   \n",
       "\n",
       "                                              Timestamp  \\\n",
       "4100  [2014-08-25 00:00:16, 2014-08-25 00:00:21, 201...   \n",
       "\n",
       "                                             IP_address  \\\n",
       "4100  [70.194.132.4, 77.105.183.211, 67.2.80.14, 71....   \n",
       "\n",
       "                                           Browser_type  \\\n",
       "4100  [Safari/Webkit, Safari/Webkit, Internet Explor...   \n",
       "\n",
       "                                             User_agent  \\\n",
       "4100  [Mozilla/5.0 (Linux; Android 4.4.4; XT1080 Bui...   \n",
       "\n",
       "                                                In_view  \\\n",
       "4100  [1.0, 0.0, 1.0, nan, 0.0, 1.0, nan, 0.0, 0.0, ...   \n",
       "\n",
       "                                                Plugins  \\\n",
       "4100  [nan, nan, nan, nan, 1.0, 1.0, nan, nan, nan, ...   \n",
       "\n",
       "                                          Position_size  \\\n",
       "4100  [(0,0,320,272), nan, nan, nan, (0,0,728,90), (...   \n",
       "\n",
       "                                                Latency  \n",
       "4100  [0.0, 0.0, 364.0, nan, 0.0, 0.0, nan, 0.0, nan...  "
      ]
     },
     "execution_count": 719,
     "metadata": {},
     "output_type": "execute_result"
    }
   ],
   "source": [
    "# Lets take at a couple of the ones with large number of hits.\n",
    "adsafeprotected=sorted_urls[sorted_urls.URL == 'http://pixel.adsafeprotected.com']\n",
    "adsafeprotected"
   ]
  },
  {
   "cell_type": "code",
   "execution_count": 722,
   "metadata": {
    "collapsed": false
   },
   "outputs": [
    {
     "name": "stdout",
     "output_type": "stream",
     "text": [
      "Mozilla/5.0 (Linux; Android 4.4.4; XT1080 Build/SU4.21) AppleWebKit/537.36 (KHTML, like Gecko) Version/4.0 Chrome/33.0.0.0 Mobile Safari/537.36\n"
     ]
    },
    {
     "data": {
      "text/plain": [
       "[('Mozilla/5.0 (Windows NT 6.1; WOW64) AppleWebKit/537.36 (KHTML, like Gecko) Chrome/36.0.1985.143 Safari/537.36',\n",
       "  1572),\n",
       " ('Mozilla/5.0 (Macintosh; Intel Mac OS X 10_7_5) AppleWebKit/536.25 (KHTML, like Gecko) Version/6.0 Safari/536.25',\n",
       "  1525),\n",
       " ('Mozilla/5.0 (Macintosh; Intel Mac OS X 10_9_4) AppleWebKit/537.36 (KHTML, like Gecko) Chrome/36.0.1985.143 Safari/537.36',\n",
       "  1158),\n",
       " ('Mozilla/5.0 (Windows NT 6.1; WOW64; Trident/7.0; rv:11.0) like Gecko', 931),\n",
       " ('Mozilla/5.0 (iPhone; CPU iPhone OS 7_1_2 like Mac OS X) AppleWebKit/537.51.2 (KHTML, like Gecko) Mobile/11D257',\n",
       "  745)]"
      ]
     },
     "execution_count": 722,
     "metadata": {},
     "output_type": "execute_result"
    }
   ],
   "source": [
    "sorted = adsafeprotected.User_agent.values[0]\n",
    "print(sorted[0])\n",
    "\n",
    "from collections import Counter\n",
    "\n",
    "user_agent_counts = Counter(np.array(sorted))\n",
    "user_agent_counts.most_common(5)\n",
    "\n"
   ]
  },
  {
   "cell_type": "markdown",
   "metadata": {},
   "source": [
    "### Nothing suspicious so far"
   ]
  },
  {
   "cell_type": "code",
   "execution_count": 683,
   "metadata": {
    "collapsed": false
   },
   "outputs": [
    {
     "name": "stdout",
     "output_type": "stream",
     "text": [
      "2014-08-25 00:00:16\n"
     ]
    }
   ],
   "source": [
    "# Now let's look at time intervals between consecutive hits\n",
    "\n",
    "import datetime\n",
    "import time\n",
    "\n",
    "time = adsafeprotected.Timestamp.values[0]\n",
    "print(time[0])\n",
    "pydates = np.array(datetime.datetime.strptime(time[0], \"%Y-%m-%d %H:%M:%S\") )\n",
    "interval = np.array([])\n",
    "for i in range(1,len(time)):\n",
    "    dt = datetime.datetime.strptime(time[i], \"%Y-%m-%d %H:%M:%S\") \n",
    "    pydates = np.append(pydates,dt)\n",
    "    interval = np.append(interval,(pydates[i]-pydates[i-1]).total_seconds())\n",
    "\n",
    "#datetime.combine(date.today(), exit) - datetime.combine(date.today(), enter)"
   ]
  },
  {
   "cell_type": "code",
   "execution_count": 684,
   "metadata": {
    "collapsed": false
   },
   "outputs": [
    {
     "name": "stdout",
     "output_type": "stream",
     "text": [
      "9.0\n"
     ]
    }
   ],
   "source": [
    "pydates[0]\n",
    "print(interval[1])\n",
    "adsafe_pydates = pydates\n",
    "adsafe_interval = interval"
   ]
  },
  {
   "cell_type": "code",
   "execution_count": 685,
   "metadata": {
    "collapsed": false
   },
   "outputs": [
    {
     "data": {
      "image/png": "[encoded data removed]",
      "text/plain": [
       "<matplotlib.figure.Figure at 0x14727ee80>"
      ]
     },
     "metadata": {},
     "output_type": "display_data"
    }
   ],
   "source": [
    "plt.hist(adsafe_interval,bins=50)\n",
    "\n",
    "axes = plt.gca()\n",
    "axes.set_xlim([0,150])\n",
    "plt.show()"
   ]
  },
  {
   "cell_type": "markdown",
   "metadata": {},
   "source": [
    "### Now let's look at a popular website."
   ]
  },
  {
   "cell_type": "code",
   "execution_count": 686,
   "metadata": {
    "collapsed": false
   },
   "outputs": [
    {
     "data": {
      "text/html": [
       "<div>\n",
       "<table border=\"1\" class=\"dataframe\">\n",
       "  <thead>\n",
       "    <tr style=\"text-align: right;\">\n",
       "      <th></th>\n",
       "      <th>URL</th>\n",
       "      <th>Timestamp</th>\n",
       "      <th>IP_address</th>\n",
       "      <th>Browser_type</th>\n",
       "      <th>User_agent</th>\n",
       "      <th>In_view</th>\n",
       "      <th>Plugins</th>\n",
       "      <th>Position_size</th>\n",
       "      <th>Latency</th>\n",
       "    </tr>\n",
       "  </thead>\n",
       "  <tbody>\n",
       "    <tr>\n",
       "      <th>9685</th>\n",
       "      <td>http://www.pandora.com</td>\n",
       "      <td>[2014-08-25 00:01:27, 2014-08-25 00:06:46, 201...</td>\n",
       "      <td>[74.76.96.101, 206.192.168.26, 74.76.96.101, 7...</td>\n",
       "      <td>[Internet Explorer, Internet Explorer, Interne...</td>\n",
       "      <td>[Mozilla/5.0 (compatible; MSIE 10.0; Windows N...</td>\n",
       "      <td>[1.0, 1.0, 1.0, 1.0, 1.0, 1.0, 1.0, 1.0, 1.0, ...</td>\n",
       "      <td>[nan, nan, nan, nan, 9.0, 16.0, nan, nan, nan,...</td>\n",
       "      <td>[(0,0,1138,666), (0,0,1659,865), (0,0,1138,666...</td>\n",
       "      <td>[0.0, 0.0, 0.0, 0.0, 0.0, 0.0, 0.0, 69.0, 0.0,...</td>\n",
       "    </tr>\n",
       "  </tbody>\n",
       "</table>\n",
       "</div>"
      ],
      "text/plain": [
       "                         URL  \\\n",
       "9685  http://www.pandora.com   \n",
       "\n",
       "                                              Timestamp  \\\n",
       "9685  [2014-08-25 00:01:27, 2014-08-25 00:06:46, 201...   \n",
       "\n",
       "                                             IP_address  \\\n",
       "9685  [74.76.96.101, 206.192.168.26, 74.76.96.101, 7...   \n",
       "\n",
       "                                           Browser_type  \\\n",
       "9685  [Internet Explorer, Internet Explorer, Interne...   \n",
       "\n",
       "                                             User_agent  \\\n",
       "9685  [Mozilla/5.0 (compatible; MSIE 10.0; Windows N...   \n",
       "\n",
       "                                                In_view  \\\n",
       "9685  [1.0, 1.0, 1.0, 1.0, 1.0, 1.0, 1.0, 1.0, 1.0, ...   \n",
       "\n",
       "                                                Plugins  \\\n",
       "9685  [nan, nan, nan, nan, 9.0, 16.0, nan, nan, nan,...   \n",
       "\n",
       "                                          Position_size  \\\n",
       "9685  [(0,0,1138,666), (0,0,1659,865), (0,0,1138,666...   \n",
       "\n",
       "                                                Latency  \n",
       "9685  [0.0, 0.0, 0.0, 0.0, 0.0, 0.0, 0.0, 69.0, 0.0,...  "
      ]
     },
     "execution_count": 686,
     "metadata": {},
     "output_type": "execute_result"
    }
   ],
   "source": [
    "pandora=sorted_urls[sorted_urls.URL == 'http://www.pandora.com']\n",
    "pandora"
   ]
  },
  {
   "cell_type": "code",
   "execution_count": 687,
   "metadata": {
    "collapsed": false
   },
   "outputs": [],
   "source": [
    "# Time interval module\n",
    "def time_interval(df):\n",
    "    time = df.Timestamp.values[0]\n",
    "#print(time[0])\n",
    "    pydates = np.array(datetime.datetime.strptime(time[0], \"%Y-%m-%d %H:%M:%S\") )\n",
    "    interval = np.array([])\n",
    "    for i in range(1,len(time)):\n",
    "        dt = datetime.datetime.strptime(time[i], \"%Y-%m-%d %H:%M:%S\") \n",
    "        pydates = np.append(pydates,dt)\n",
    "        interval = np.append(interval,(pydates[i]-pydates[i-1]).total_seconds())\n",
    "    return pydates, interval"
   ]
  },
  {
   "cell_type": "code",
   "execution_count": 688,
   "metadata": {
    "collapsed": true
   },
   "outputs": [],
   "source": [
    "pandora_pydates, pandora_interval = time_interval(pandora)"
   ]
  },
  {
   "cell_type": "code",
   "execution_count": 689,
   "metadata": {
    "collapsed": false
   },
   "outputs": [
    {
     "data": {
      "image/png": "[encoded data removed]",
      "text/plain": [
       "<matplotlib.figure.Figure at 0x14c5aaf28>"
      ]
     },
     "metadata": {},
     "output_type": "display_data"
    }
   ],
   "source": [
    "plt.hist(pandora_interval,bins=2000)\n",
    "\n",
    "axes = plt.gca()\n",
    "axes.set_xlim([0,150])\n",
    "axes.set_xlabel('Time interval between site visits (sec)')\n",
    "plt.show()"
   ]
  },
  {
   "cell_type": "markdown",
   "metadata": {},
   "source": [
    "### Interestingly, the number of back-back visits to Pandora dwarfs all other time intervals and accounts for half of all the visits in this time period.  So is this something nefarious as well?  "
   ]
  },
  {
   "cell_type": "code",
   "execution_count": 690,
   "metadata": {
    "collapsed": false
   },
   "outputs": [
    {
     "name": "stdout",
     "output_type": "stream",
     "text": [
      "Top 3 IP address visits to adsafeprotected\n",
      "[('96.251.30.244', 1526), ('76.219.64.180', 856), ('206.110.20.2', 808)]\n"
     ]
    }
   ],
   "source": [
    "# Let's look at IP addresses first of adsafeprotected.\n",
    "adsafeprotected_IP = adsafeprotected.IP_address.values[0]\n",
    "adsafeprotected_IP_common = Counter(adsafeprotected_IP).most_common()\n",
    "print('Top 3 IP address visits to adsafeprotected')\n",
    "print(adsafeprotected_IP_common[:3])"
   ]
  },
  {
   "cell_type": "code",
   "execution_count": 691,
   "metadata": {
    "collapsed": false
   },
   "outputs": [
    {
     "name": "stdout",
     "output_type": "stream",
     "text": [
      "Top 3 IP address visits to pandora\n",
      "[('206.192.168.26', 1903), ('165.138.86.152', 89), ('198.147.17.5', 81)]\n"
     ]
    }
   ],
   "source": [
    "# Now let's look at IP addresses first of pandora.\n",
    "pandora_IP = pandora.IP_address.values[0]\n",
    "pandora_IP_common = Counter(pandora_IP).most_common()\n",
    "print('Top 3 IP address visits to pandora')\n",
    "print(pandora_IP_common[:3])"
   ]
  },
  {
   "cell_type": "code",
   "execution_count": 692,
   "metadata": {
    "collapsed": false,
    "scrolled": true
   },
   "outputs": [],
   "source": [
    "#  Are there common IP addresses between the two sets?\n",
    "IP_intersection=list(set(adsafeprotected_IP).intersection(pandora_IP))\n",
    "#print(IP_intersection)\n",
    "pandora_IP_common = pd.DataFrame(pandora_IP_common,columns=['IP_address', 'Hits'])\n",
    "adsafeprotected_IP_common = pd.DataFrame(adsafeprotected_IP_common,columns=['IP_address', 'Hits'])\n",
    "\n",
    "\n",
    "\n"
   ]
  },
  {
   "cell_type": "code",
   "execution_count": 693,
   "metadata": {
    "collapsed": false
   },
   "outputs": [
    {
     "data": {
      "text/html": [
       "<div>\n",
       "<table border=\"1\" class=\"dataframe\">\n",
       "  <thead>\n",
       "    <tr style=\"text-align: right;\">\n",
       "      <th></th>\n",
       "      <th>IP_address</th>\n",
       "      <th>Hits</th>\n",
       "    </tr>\n",
       "  </thead>\n",
       "  <tbody>\n",
       "    <tr>\n",
       "      <th>0</th>\n",
       "      <td>206.192.168.26</td>\n",
       "      <td>1903</td>\n",
       "    </tr>\n",
       "    <tr>\n",
       "      <th>1</th>\n",
       "      <td>165.138.86.152</td>\n",
       "      <td>89</td>\n",
       "    </tr>\n",
       "    <tr>\n",
       "      <th>2</th>\n",
       "      <td>198.147.17.5</td>\n",
       "      <td>81</td>\n",
       "    </tr>\n",
       "  </tbody>\n",
       "</table>\n",
       "</div>"
      ],
      "text/plain": [
       "       IP_address  Hits\n",
       "0  206.192.168.26  1903\n",
       "1  165.138.86.152    89\n",
       "2    198.147.17.5    81"
      ]
     },
     "execution_count": 693,
     "metadata": {},
     "output_type": "execute_result"
    }
   ],
   "source": [
    "pandora_intersection = pandora_IP_common[pandora_IP_common.IP_address.isin(IP_intersection)]\n",
    "pandora_intersection.head(3)"
   ]
  },
  {
   "cell_type": "code",
   "execution_count": 694,
   "metadata": {
    "collapsed": false,
    "scrolled": true
   },
   "outputs": [
    {
     "data": {
      "text/html": [
       "<div>\n",
       "<table border=\"1\" class=\"dataframe\">\n",
       "  <thead>\n",
       "    <tr style=\"text-align: right;\">\n",
       "      <th></th>\n",
       "      <th>IP_address</th>\n",
       "      <th>Hits</th>\n",
       "    </tr>\n",
       "  </thead>\n",
       "  <tbody>\n",
       "    <tr>\n",
       "      <th>2</th>\n",
       "      <td>206.110.20.2</td>\n",
       "      <td>808</td>\n",
       "    </tr>\n",
       "    <tr>\n",
       "      <th>3</th>\n",
       "      <td>206.192.168.26</td>\n",
       "      <td>379</td>\n",
       "    </tr>\n",
       "    <tr>\n",
       "      <th>4</th>\n",
       "      <td>131.107.0.71</td>\n",
       "      <td>261</td>\n",
       "    </tr>\n",
       "  </tbody>\n",
       "</table>\n",
       "</div>"
      ],
      "text/plain": [
       "       IP_address  Hits\n",
       "2    206.110.20.2   808\n",
       "3  206.192.168.26   379\n",
       "4    131.107.0.71   261"
      ]
     },
     "execution_count": 694,
     "metadata": {},
     "output_type": "execute_result"
    }
   ],
   "source": [
    "adsafeprotected_intersection = adsafeprotected_IP_common[adsafeprotected_IP_common.IP_address.isin(IP_intersection)]\n",
    "adsafeprotected_intersection.head(3)"
   ]
  },
  {
   "cell_type": "code",
   "execution_count": 695,
   "metadata": {
    "collapsed": false
   },
   "outputs": [
    {
     "name": "stdout",
     "output_type": "stream",
     "text": [
      "Number of common IP addresses between adsafeprotected and pandora: 75\n"
     ]
    }
   ],
   "source": [
    "print('Number of common IP addresses between adsafeprotected and pandora:',len(IP_intersection))"
   ]
  },
  {
   "cell_type": "code",
   "execution_count": 696,
   "metadata": {
    "collapsed": false
   },
   "outputs": [
    {
     "data": {
      "image/png": "[encoded data removed]",
      "text/plain": [
       "<matplotlib.figure.Figure at 0x148500a90>"
      ]
     },
     "metadata": {},
     "output_type": "display_data"
    }
   ],
   "source": [
    "adsafeprotected_intersection.plot(kind='bar',rot=90,label='Common Hits in adsafeprotected')\n",
    "plt.show()"
   ]
  },
  {
   "cell_type": "code",
   "execution_count": 697,
   "metadata": {
    "collapsed": false,
    "scrolled": true
   },
   "outputs": [
    {
     "data": {
      "image/png": "[encoded data removed]",
      "text/plain": [
       "<matplotlib.figure.Figure at 0x14e740d30>"
      ]
     },
     "metadata": {},
     "output_type": "display_data"
    }
   ],
   "source": [
    "pandora_intersection.plot(kind='bar',rot=90)\n",
    "plt.show()"
   ]
  },
  {
   "cell_type": "markdown",
   "metadata": {},
   "source": [
    "### At this point, it would be good to cross-correlate these IP addresses with the time interval series to see if there are any commonalities"
   ]
  },
  {
   "cell_type": "code",
   "execution_count": 698,
   "metadata": {
    "collapsed": false,
    "scrolled": true
   },
   "outputs": [
    {
     "name": "stdout",
     "output_type": "stream",
     "text": [
      "Top 3 IP address visits to featureplay\n",
      "[('173.74.71.189', 126), ('23.120.117.39', 85), ('173.55.201.175', 64)]\n"
     ]
    },
    {
     "data": {
      "text/plain": [
       "<matplotlib.axes._subplots.AxesSubplot at 0x14eb38898>"
      ]
     },
     "execution_count": 698,
     "metadata": {},
     "output_type": "execute_result"
    },
    {
     "data": {
      "image/png": "[encoded data removed]",
      "text/plain": [
       "<matplotlib.figure.Figure at 0x14eb43278>"
      ]
     },
     "metadata": {},
     "output_type": "display_data"
    }
   ],
   "source": [
    "# Now lets take a look at one of the test cases, http://www.featureplay.com'adsafeprotected_IP = adsafeprotected.IP_address.values[0]\n",
    "featureplay=sorted_urls[sorted_urls.URL == 'http://www.featureplay.com']\n",
    "featureplay_IP = featureplay.IP_address.values[0]\n",
    "featureplay_IP_common = Counter(featureplay_IP).most_common()\n",
    "print('Top 3 IP address visits to featureplay')\n",
    "print(featureplay_IP_common[:3])\n",
    "featureplay_IP_common = pd.DataFrame(featureplay_IP_common,columns=['IP_address', 'Hits'])\n",
    "featureplay_IP_common.plot(kind='bar',rot=90)"
   ]
  },
  {
   "cell_type": "code",
   "execution_count": null,
   "metadata": {
    "collapsed": true
   },
   "outputs": [],
   "source": []
  },
  {
   "cell_type": "code",
   "execution_count": 699,
   "metadata": {
    "collapsed": false
   },
   "outputs": [],
   "source": [
    "# Now let's write a time interval module that calculates time intervals between hits from the same IP address\n",
    "def time_interval_address(df):\n",
    "    time = df.Timestamp.values[0]\n",
    "    address = df.IP_address.values[0]\n",
    "    new_df = pd.DataFrame({'Timestamp':time,'IP_address':address}).sort_values('IP_address')\n",
    "    grouped_address = new_df.IP_address\n",
    "    grouped_time = new_df.Timestamp\n",
    "\n",
    "    pydates = np.array(datetime.datetime.strptime(grouped_time[0], \"%Y-%m-%d %H:%M:%S\") )\n",
    "    interval = np.nan\n",
    "    for i in range(1,len(time)):\n",
    "        dt = datetime.datetime.strptime(grouped_time[i], \"%Y-%m-%d %H:%M:%S\") \n",
    "        pydates = np.append(pydates,dt)\n",
    "        if grouped_address[i]==grouped_address[i-1]:\n",
    "           interval = np.append(interval,(pydates[i]-pydates[i-1]).total_seconds())\n",
    "        else:\n",
    "            interval = np.append(interval,np.nan)\n",
    "            \n",
    "    return pd.DataFrame({'IP_address':grouped_address, 'Timestamp':pydates, 'Time_delta':interval})"
   ]
  },
  {
   "cell_type": "code",
   "execution_count": 700,
   "metadata": {
    "collapsed": false
   },
   "outputs": [],
   "source": [
    "featureplay_address_time = time_interval_address(featureplay)"
   ]
  },
  {
   "cell_type": "code",
   "execution_count": 701,
   "metadata": {
    "collapsed": false,
    "scrolled": true
   },
   "outputs": [
    {
     "data": {
      "text/html": [
       "<div>\n",
       "<table border=\"1\" class=\"dataframe\">\n",
       "  <thead>\n",
       "    <tr style=\"text-align: right;\">\n",
       "      <th></th>\n",
       "      <th>IP_address</th>\n",
       "      <th>Time_delta</th>\n",
       "      <th>Timestamp</th>\n",
       "    </tr>\n",
       "  </thead>\n",
       "  <tbody>\n",
       "    <tr>\n",
       "      <th>391</th>\n",
       "      <td>173.208.33.229</td>\n",
       "      <td>NaN</td>\n",
       "      <td>2014-08-25 00:37:25</td>\n",
       "    </tr>\n",
       "    <tr>\n",
       "      <th>389</th>\n",
       "      <td>173.208.33.229</td>\n",
       "      <td>NaN</td>\n",
       "      <td>2014-08-25 01:05:18</td>\n",
       "    </tr>\n",
       "    <tr>\n",
       "      <th>387</th>\n",
       "      <td>173.208.33.229</td>\n",
       "      <td>2445</td>\n",
       "      <td>2014-08-25 01:46:03</td>\n",
       "    </tr>\n",
       "  </tbody>\n",
       "</table>\n",
       "</div>"
      ],
      "text/plain": [
       "         IP_address  Time_delta           Timestamp\n",
       "391  173.208.33.229         NaN 2014-08-25 00:37:25\n",
       "389  173.208.33.229         NaN 2014-08-25 01:05:18\n",
       "387  173.208.33.229        2445 2014-08-25 01:46:03"
      ]
     },
     "execution_count": 701,
     "metadata": {},
     "output_type": "execute_result"
    }
   ],
   "source": [
    "featureplay_address_time.head(3)"
   ]
  },
  {
   "cell_type": "code",
   "execution_count": 702,
   "metadata": {
    "collapsed": false
   },
   "outputs": [
    {
     "data": {
      "text/html": [
       "<div>\n",
       "<table border=\"1\" class=\"dataframe\">\n",
       "  <thead>\n",
       "    <tr style=\"text-align: right;\">\n",
       "      <th></th>\n",
       "      <th>Time_delta</th>\n",
       "    </tr>\n",
       "    <tr>\n",
       "      <th>IP_address</th>\n",
       "      <th></th>\n",
       "    </tr>\n",
       "  </thead>\n",
       "  <tbody>\n",
       "    <tr>\n",
       "      <th>173.208.33.229</th>\n",
       "      <td>2445.000000</td>\n",
       "    </tr>\n",
       "    <tr>\n",
       "      <th>173.55.201.175</th>\n",
       "      <td>142.386364</td>\n",
       "    </tr>\n",
       "    <tr>\n",
       "      <th>173.56.25.16</th>\n",
       "      <td>61.000000</td>\n",
       "    </tr>\n",
       "  </tbody>\n",
       "</table>\n",
       "</div>"
      ],
      "text/plain": [
       "                 Time_delta\n",
       "IP_address                 \n",
       "173.208.33.229  2445.000000\n",
       "173.55.201.175   142.386364\n",
       "173.56.25.16      61.000000"
      ]
     },
     "execution_count": 702,
     "metadata": {},
     "output_type": "execute_result"
    },
    {
     "data": {
      "image/png": "[encoded data removed]",
      "text/plain": [
       "<matplotlib.figure.Figure at 0x14eff4278>"
      ]
     },
     "metadata": {},
     "output_type": "display_data"
    }
   ],
   "source": [
    "featureplay_address_time.groupby('IP_address').mean().plot(kind='bar')\n",
    "featureplay_address_time.groupby('IP_address').mean().head(3)"
   ]
  },
  {
   "cell_type": "code",
   "execution_count": 706,
   "metadata": {
    "collapsed": false
   },
   "outputs": [],
   "source": [
    "#Throw out the big number.\n",
    "featureplay_address_time_trimmed=featureplay_address_time[featureplay_address_time.Time_delta<500]"
   ]
  },
  {
   "cell_type": "code",
   "execution_count": 707,
   "metadata": {
    "collapsed": false
   },
   "outputs": [
    {
     "data": {
      "image/png": "[encoded data removed]",
      "text/plain": [
       "<matplotlib.figure.Figure at 0x1519d5da0>"
      ]
     },
     "metadata": {},
     "output_type": "display_data"
    }
   ],
   "source": [
    "featureplay_address_time_trimmed.groupby('IP_address').mean().plot(kind='bar')\n",
    "plt.show()"
   ]
  },
  {
   "cell_type": "code",
   "execution_count": 714,
   "metadata": {
    "collapsed": false
   },
   "outputs": [
    {
     "data": {
      "image/png": "[encoded data removed]",
      "text/plain": [
       "<matplotlib.figure.Figure at 0x1420aa898>"
      ]
     },
     "metadata": {},
     "output_type": "display_data"
    }
   ],
   "source": [
    "plt.scatter(featureplay_address_time_trimmed.groupby('IP_address').size(),featureplay_address_time_trimmed.groupby('IP_address').mean())\n",
    "\n",
    "axes = plt.gca()\n",
    "axes.set_xlabel('Number of visits')\n",
    "axes.set_ylabel('Mean time between visits')\n",
    "axes.set_title('http://www.featureplay.com')\n",
    "plt.show()"
   ]
  },
  {
   "cell_type": "markdown",
   "metadata": {},
   "source": [
    "## Ah hah!  Now we have some data that is showing distinct clusters and outliers...  Getting warmer."
   ]
  },
  {
   "cell_type": "code",
   "execution_count": 601,
   "metadata": {
    "collapsed": false
   },
   "outputs": [
    {
     "data": {
      "image/png": "[encoded data removed]",
      "text/plain": [
       "<matplotlib.figure.Figure at 0x15f811c88>"
      ]
     },
     "metadata": {},
     "output_type": "display_data"
    }
   ],
   "source": [
    "# Now let's go back to Pandora\n",
    "pandora_address_time = time_interval_address(pandora)\n",
    "pandora_address_time.groupby('IP_address').mean().plot(kind='bar')\n",
    "plt.show()"
   ]
  },
  {
   "cell_type": "code",
   "execution_count": 602,
   "metadata": {
    "collapsed": false
   },
   "outputs": [
    {
     "data": {
      "image/png": "[encoded data removed]",
      "text/plain": [
       "<matplotlib.figure.Figure at 0x14bb2a160>"
      ]
     },
     "metadata": {},
     "output_type": "display_data"
    }
   ],
   "source": [
    "#Throw out big number.\n",
    "pandora_address_time_trimmed=pandora_address_time[pandora_address_time.Time_delta<500]\n",
    "pandora_address_time_trimmed.groupby('IP_address').mean().plot(kind='bar')\n",
    "plt.show()\n"
   ]
  },
  {
   "cell_type": "code",
   "execution_count": 713,
   "metadata": {
    "collapsed": false
   },
   "outputs": [
    {
     "data": {
      "image/png": "[encoded data removed]",
      "text/plain": [
       "<matplotlib.figure.Figure at 0x142178a20>"
      ]
     },
     "metadata": {},
     "output_type": "display_data"
    }
   ],
   "source": [
    "plt.scatter(pandora_address_time.groupby('IP_address').size(),pandora_address_time.groupby('IP_address').mean())\n",
    "axes = plt.gca()\n",
    "axes.set_xlabel('Number of visits')\n",
    "axes.set_ylabel('Mean time between visits')\n",
    "axes.set_title('http://www.pandora.com')\n",
    "plt.show()"
   ]
  },
  {
   "cell_type": "markdown",
   "metadata": {},
   "source": [
    "## Oh ho ho!  Look at that one little dot way the heck to the right.  Large number of visits (close to 2000) with near zero mean time between each hit.  But this is Pandora!  We are getting hot..."
   ]
  },
  {
   "cell_type": "code",
   "execution_count": null,
   "metadata": {
    "collapsed": true
   },
   "outputs": [],
   "source": []
  },
  {
   "cell_type": "code",
   "execution_count": 709,
   "metadata": {
    "collapsed": false
   },
   "outputs": [
    {
     "data": {
      "image/png": "[encoded data removed]",
      "text/plain": [
       "<matplotlib.figure.Figure at 0x14e421e48>"
      ]
     },
     "metadata": {},
     "output_type": "display_data"
    }
   ],
   "source": [
    "# Now lets take a look at another one of the test cases, http://www.uvidi.com\n",
    "uvidi=sorted_urls[sorted_urls.URL == 'http://www.uvidi.com']\n",
    "uvidi_address_time = time_interval_address(uvidi)\n",
    "uvidi_address_time.groupby('IP_address').mean().plot(kind='bar')\n",
    "plt.show()"
   ]
  },
  {
   "cell_type": "code",
   "execution_count": 710,
   "metadata": {
    "collapsed": false
   },
   "outputs": [
    {
     "data": {
      "image/png": "[encoded data removed]",
      "text/plain": [
       "<matplotlib.figure.Figure at 0x1427584a8>"
      ]
     },
     "metadata": {},
     "output_type": "display_data"
    }
   ],
   "source": [
    "#Throw out big numbers.\n",
    "uvidi_address_time_trimmed=uvidi_address_time[uvidi_address_time.Time_delta<500]\n",
    "uvidi_address_time_trimmed.groupby('IP_address').mean().plot(kind='bar')\n",
    "plt.show()"
   ]
  },
  {
   "cell_type": "code",
   "execution_count": 712,
   "metadata": {
    "collapsed": false
   },
   "outputs": [
    {
     "data": {
      "image/png": "[encoded data removed]",
      "text/plain": [
       "<matplotlib.figure.Figure at 0x1427898d0>"
      ]
     },
     "metadata": {},
     "output_type": "display_data"
    }
   ],
   "source": [
    "plt.scatter(uvidi_address_time.groupby('IP_address').size(),uvidi_address_time.groupby('IP_address').mean())\n",
    "axes = plt.gca()\n",
    "axes.set_xlabel('Number of visits')\n",
    "axes.set_ylabel('Mean time between visits')\n",
    "axes.set_title('http://www.uvidi.com')\n",
    "plt.show()"
   ]
  },
  {
   "cell_type": "markdown",
   "metadata": {},
   "source": [
    "## Another one of the training sets shows outliers as well.  "
   ]
  },
  {
   "cell_type": "code",
   "execution_count": null,
   "metadata": {
    "collapsed": true
   },
   "outputs": [],
   "source": []
  },
  {
   "cell_type": "code",
   "execution_count": 353,
   "metadata": {
    "collapsed": false
   },
   "outputs": [
    {
     "data": {
      "text/plain": [
       "URL\n",
       "http://www.answers.com               3791\n",
       "http://fw.adsafeprotected.com       11942\n",
       "http://pixel.adsafeprotected.com    20548\n",
       "dtype: int64"
      ]
     },
     "execution_count": 353,
     "metadata": {},
     "output_type": "execute_result"
    }
   ],
   "source": [
    "#  Let's take a look at the overall distribution of number of hits in this given time frame\n",
    "url_hits.tail(3)"
   ]
  },
  {
   "cell_type": "code",
   "execution_count": null,
   "metadata": {
    "collapsed": true
   },
   "outputs": [],
   "source": []
  },
  {
   "cell_type": "code",
   "execution_count": null,
   "metadata": {
    "collapsed": true
   },
   "outputs": [],
   "source": []
  },
  {
   "cell_type": "code",
   "execution_count": 348,
   "metadata": {
    "collapsed": false
   },
   "outputs": [],
   "source": [
    "\n",
    "# normalized with logx.\n",
    "url_hits_norm = url_hits.apply(math.log)\n",
    "#url_hits_norm = math.log([float(url_hits.values)])"
   ]
  },
  {
   "cell_type": "code",
   "execution_count": null,
   "metadata": {
    "collapsed": true
   },
   "outputs": [],
   "source": []
  },
  {
   "cell_type": "code",
   "execution_count": null,
   "metadata": {
    "collapsed": true
   },
   "outputs": [],
   "source": []
  },
  {
   "cell_type": "code",
   "execution_count": 354,
   "metadata": {
    "collapsed": false
   },
   "outputs": [
    {
     "data": {
      "image/png": "[encoded data removed]",
      "text/plain": [
       "<matplotlib.figure.Figure at 0x1487794e0>"
      ]
     },
     "metadata": {},
     "output_type": "display_data"
    }
   ],
   "source": [
    "# Distribution of log(number of hits)\n",
    "url_hits_norm.plot(kind='hist',bins=100)\n",
    "plt.show()\n"
   ]
  },
  {
   "cell_type": "code",
   "execution_count": 359,
   "metadata": {
    "collapsed": false
   },
   "outputs": [
    {
     "name": "stdout",
     "output_type": "stream",
     "text": [
      "Norm avg hits: 2.9931180596763562\n"
     ]
    }
   ],
   "source": [
    "print('Norm avg hits:', math.log(url_hits.mean()))"
   ]
  },
  {
   "cell_type": "markdown",
   "metadata": {},
   "source": [
    "### This is a strongly left-skewed distribution where the average number of hits (normalized) is about 3 (so about 20 hits).  "
   ]
  },
  {
   "cell_type": "code",
   "execution_count": null,
   "metadata": {
    "collapsed": true
   },
   "outputs": [],
   "source": [
    "\n",
    "\n",
    "\n"
   ]
  },
  {
   "cell_type": "code",
   "execution_count": null,
   "metadata": {
    "collapsed": true
   },
   "outputs": [],
   "source": []
  },
  {
   "cell_type": "code",
   "execution_count": null,
   "metadata": {
    "collapsed": true
   },
   "outputs": [],
   "source": []
  },
  {
   "cell_type": "code",
   "execution_count": null,
   "metadata": {
    "collapsed": true
   },
   "outputs": [],
   "source": []
  },
  {
   "cell_type": "code",
   "execution_count": null,
   "metadata": {
    "collapsed": true
   },
   "outputs": [],
   "source": []
  },
  {
   "cell_type": "code",
   "execution_count": null,
   "metadata": {
    "collapsed": true
   },
   "outputs": [],
   "source": []
  },
  {
   "cell_type": "code",
   "execution_count": null,
   "metadata": {
    "collapsed": true
   },
   "outputs": [],
   "source": []
  }
 ],
 "metadata": {
  "kernelspec": {
   "display_name": "Python 3",
   "language": "python",
   "name": "python3"
  },
  "language_info": {
   "codemirror_mode": {
    "name": "ipython",
    "version": 3
   },
   "file_extension": ".py",
   "mimetype": "text/x-python",
   "name": "python",
   "nbconvert_exporter": "python",
   "pygments_lexer": "ipython3",
   "version": "3.5.1"
  }
 },
 "nbformat": 4,
 "nbformat_minor": 0
}
