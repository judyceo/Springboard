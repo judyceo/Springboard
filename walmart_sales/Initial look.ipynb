{
 "cells": [
  {
   "cell_type": "markdown",
   "metadata": {},
   "source": [
    "# Summary"
   ]
  },
  {
   "cell_type": "markdown",
   "metadata": {},
   "source": [
    "## This is a preliminary look at store sales data set from an old [Kaggle competition](https://www.kaggle.com/c/walmart-recruiting-store-sales-forecasting) hosted by WalMart. The competition asked for predictions on future dates relative to the training set.  \n",
    "\n",
    "## While this data set was interesting from the perspective of seeing the sales dynamics of WalMart stores and their relative departments, after an initial look, I did not feel this gave the breadth of doing a machine learning project that I wanted mainly because the sales cycles were highly regular and none of the additional environmental features such as markdowns, fuel prices, unemployment rates, etc were actually needed.\n",
    "\n",
    "## However, I did do a substantial amount of looking under the hood at the data and thought I would share it with whoever is also curious about WalMart sales data.  Spoiler alert:  They don't include actual department names, just department numbers so have fun trying to guess what each of them might be!\n",
    "\n",
    "## This notebook will be continuously updated as I continue to play around with it."
   ]
  },
  {
   "cell_type": "code",
   "execution_count": null,
   "metadata": {
    "collapsed": true
   },
   "outputs": [],
   "source": []
  },
  {
   "cell_type": "code",
   "execution_count": 2,
   "metadata": {
    "collapsed": false
   },
   "outputs": [
    {
     "data": {
      "text/html": [
       "<style>body {\n",
       "    margin: 0;\n",
       "    font-family: Helvetica;\n",
       "}\n",
       "table.dataframe {\n",
       "    border-collapse: collapse;\n",
       "    border: none;\n",
       "}\n",
       "table.dataframe tr {\n",
       "    border: none;\n",
       "}\n",
       "table.dataframe td, table.dataframe th {\n",
       "    margin: 0;\n",
       "    border: 1px solid white;\n",
       "    padding-left: 0.25em;\n",
       "    padding-right: 0.25em;\n",
       "}\n",
       "table.dataframe th:not(:empty) {\n",
       "    background-color: #fec;\n",
       "    text-align: left;\n",
       "    font-weight: normal;\n",
       "}\n",
       "table.dataframe tr:nth-child(2) th:empty {\n",
       "    border-left: none;\n",
       "    border-right: 1px dashed #888;\n",
       "}\n",
       "table.dataframe td {\n",
       "    border: 2px solid #ccf;\n",
       "    background-color: #f4f4ff;\n",
       "}\n",
       "h3 {\n",
       "    color: white;\n",
       "    background-color: black;\n",
       "    padding: 0.5em;\n",
       "}\n",
       "</style>"
      ],
      "text/plain": [
       "<IPython.core.display.HTML object>"
      ]
     },
     "execution_count": 2,
     "metadata": {},
     "output_type": "execute_result"
    }
   ],
   "source": [
    "import pandas as pd\n",
    "import numpy as np\n",
    "import scipy as sp\n",
    "from scipy import stats\n",
    "import matplotlib.pyplot as plt\n",
    "import matplotlib.mlab as mlab\n",
    "import math\n",
    "\n",
    "%matplotlib inline\n",
    "\n",
    "from IPython.display import display, HTML\n",
    "#from IPython.core.display import HTML\n",
    "css = open('style-table.css').read() + open('style-notebook.css').read()\n",
    "HTML('<style>{}</style>'.format(css))"
   ]
  },
  {
   "cell_type": "code",
   "execution_count": 3,
   "metadata": {
    "collapsed": false,
    "scrolled": true
   },
   "outputs": [
    {
     "data": {
      "text/html": [
       "<div>\n",
       "<table border=\"1\" class=\"dataframe\">\n",
       "  <thead>\n",
       "    <tr style=\"text-align: right;\">\n",
       "      <th></th>\n",
       "      <th>Store</th>\n",
       "      <th>Dept</th>\n",
       "      <th>Date</th>\n",
       "      <th>Weekly_Sales</th>\n",
       "      <th>IsHoliday</th>\n",
       "    </tr>\n",
       "  </thead>\n",
       "  <tbody>\n",
       "    <tr>\n",
       "      <th>0</th>\n",
       "      <td>1</td>\n",
       "      <td>1</td>\n",
       "      <td>2010-02-05</td>\n",
       "      <td>0.024924</td>\n",
       "      <td>False</td>\n",
       "    </tr>\n",
       "    <tr>\n",
       "      <th>1</th>\n",
       "      <td>1</td>\n",
       "      <td>1</td>\n",
       "      <td>2010-02-12</td>\n",
       "      <td>0.046039</td>\n",
       "      <td>True</td>\n",
       "    </tr>\n",
       "    <tr>\n",
       "      <th>2</th>\n",
       "      <td>1</td>\n",
       "      <td>1</td>\n",
       "      <td>2010-02-19</td>\n",
       "      <td>0.041596</td>\n",
       "      <td>False</td>\n",
       "    </tr>\n",
       "  </tbody>\n",
       "</table>\n",
       "</div>"
      ],
      "text/plain": [
       "   Store  Dept        Date  Weekly_Sales IsHoliday\n",
       "0      1     1  2010-02-05      0.024924     False\n",
       "1      1     1  2010-02-12      0.046039      True\n",
       "2      1     1  2010-02-19      0.041596     False"
      ]
     },
     "execution_count": 3,
     "metadata": {},
     "output_type": "execute_result"
    }
   ],
   "source": [
    "data = pd.read_csv('train.csv')\n",
    "# Scale $ to $M\n",
    "data.Weekly_Sales = data.Weekly_Sales/1e6\n",
    "data.head(3)"
   ]
  },
  {
   "cell_type": "code",
   "execution_count": 4,
   "metadata": {
    "collapsed": false
   },
   "outputs": [
    {
     "data": {
      "text/html": [
       "<div>\n",
       "<table border=\"1\" class=\"dataframe\">\n",
       "  <thead>\n",
       "    <tr style=\"text-align: right;\">\n",
       "      <th></th>\n",
       "      <th>Store</th>\n",
       "      <th>Dept</th>\n",
       "      <th>Date</th>\n",
       "      <th>IsHoliday</th>\n",
       "    </tr>\n",
       "  </thead>\n",
       "  <tbody>\n",
       "    <tr>\n",
       "      <th>0</th>\n",
       "      <td>1</td>\n",
       "      <td>1</td>\n",
       "      <td>2012-11-02</td>\n",
       "      <td>False</td>\n",
       "    </tr>\n",
       "    <tr>\n",
       "      <th>1</th>\n",
       "      <td>1</td>\n",
       "      <td>1</td>\n",
       "      <td>2012-11-09</td>\n",
       "      <td>False</td>\n",
       "    </tr>\n",
       "    <tr>\n",
       "      <th>2</th>\n",
       "      <td>1</td>\n",
       "      <td>1</td>\n",
       "      <td>2012-11-16</td>\n",
       "      <td>False</td>\n",
       "    </tr>\n",
       "  </tbody>\n",
       "</table>\n",
       "</div>"
      ],
      "text/plain": [
       "   Store  Dept        Date IsHoliday\n",
       "0      1     1  2012-11-02     False\n",
       "1      1     1  2012-11-09     False\n",
       "2      1     1  2012-11-16     False"
      ]
     },
     "execution_count": 4,
     "metadata": {},
     "output_type": "execute_result"
    }
   ],
   "source": [
    "test = pd.read_csv('test.csv')\n",
    "test.head(3)"
   ]
  },
  {
   "cell_type": "code",
   "execution_count": 5,
   "metadata": {
    "collapsed": false,
    "scrolled": false
   },
   "outputs": [
    {
     "name": "stdout",
     "output_type": "stream",
     "text": [
      "(421570, 5)\n"
     ]
    }
   ],
   "source": [
    "data[(data.Store==1) & (data.Dept==1)].head(2)\n",
    "stores = data.Store.max()\n",
    "depts = data.Dept.max()\n",
    "print(data.shape)"
   ]
  },
  {
   "cell_type": "code",
   "execution_count": null,
   "metadata": {
    "collapsed": true
   },
   "outputs": [],
   "source": []
  },
  {
   "cell_type": "code",
   "execution_count": 6,
   "metadata": {
    "collapsed": false
   },
   "outputs": [
    {
     "data": {
      "text/html": [
       "<div>\n",
       "<table border=\"1\" class=\"dataframe\">\n",
       "  <thead>\n",
       "    <tr style=\"text-align: right;\">\n",
       "      <th></th>\n",
       "      <th>Store</th>\n",
       "      <th>Dept</th>\n",
       "      <th>Date</th>\n",
       "      <th>Weekly_Sales</th>\n",
       "      <th>IsHoliday</th>\n",
       "    </tr>\n",
       "  </thead>\n",
       "  <tbody>\n",
       "    <tr>\n",
       "      <th>0</th>\n",
       "      <td>s1</td>\n",
       "      <td>d1</td>\n",
       "      <td>2010-02-05</td>\n",
       "      <td>0.024924</td>\n",
       "      <td>False</td>\n",
       "    </tr>\n",
       "    <tr>\n",
       "      <th>1</th>\n",
       "      <td>s1</td>\n",
       "      <td>d1</td>\n",
       "      <td>2010-02-12</td>\n",
       "      <td>0.046039</td>\n",
       "      <td>True</td>\n",
       "    </tr>\n",
       "  </tbody>\n",
       "</table>\n",
       "</div>"
      ],
      "text/plain": [
       "  Store Dept        Date  Weekly_Sales IsHoliday\n",
       "0    s1   d1  2010-02-05      0.024924     False\n",
       "1    s1   d1  2010-02-12      0.046039      True"
      ]
     },
     "execution_count": 6,
     "metadata": {},
     "output_type": "execute_result"
    }
   ],
   "source": [
    "train = data\n",
    "train['Store'] = 's' + train['Store'].astype(str)\n",
    "train['Dept'] = 'd' + train['Dept'].astype(str)\n",
    "train.head(2)\n"
   ]
  },
  {
   "cell_type": "code",
   "execution_count": 7,
   "metadata": {
    "collapsed": false
   },
   "outputs": [
    {
     "name": "stdout",
     "output_type": "stream",
     "text": [
      "(143, 3332)\n"
     ]
    },
    {
     "data": {
      "text/html": [
       "<div>\n",
       "<table border=\"1\" class=\"dataframe\">\n",
       "  <thead>\n",
       "    <tr>\n",
       "      <th></th>\n",
       "      <th>Date</th>\n",
       "      <th colspan=\"20\" halign=\"left\">Weekly_Sales</th>\n",
       "    </tr>\n",
       "    <tr>\n",
       "      <th>Store</th>\n",
       "      <th></th>\n",
       "      <th colspan=\"9\" halign=\"left\">s1</th>\n",
       "      <th>...</th>\n",
       "      <th colspan=\"10\" halign=\"left\">s9</th>\n",
       "    </tr>\n",
       "    <tr>\n",
       "      <th>Dept</th>\n",
       "      <th></th>\n",
       "      <th>d1</th>\n",
       "      <th>d10</th>\n",
       "      <th>d11</th>\n",
       "      <th>d12</th>\n",
       "      <th>d13</th>\n",
       "      <th>d14</th>\n",
       "      <th>d16</th>\n",
       "      <th>d17</th>\n",
       "      <th>d18</th>\n",
       "      <th>...</th>\n",
       "      <th>d9</th>\n",
       "      <th>d90</th>\n",
       "      <th>d91</th>\n",
       "      <th>d92</th>\n",
       "      <th>d93</th>\n",
       "      <th>d94</th>\n",
       "      <th>d95</th>\n",
       "      <th>d96</th>\n",
       "      <th>d97</th>\n",
       "      <th>d98</th>\n",
       "    </tr>\n",
       "  </thead>\n",
       "  <tbody>\n",
       "    <tr>\n",
       "      <th>0</th>\n",
       "      <td>2010-02-05</td>\n",
       "      <td>0.024924</td>\n",
       "      <td>0.030721</td>\n",
       "      <td>0.024213</td>\n",
       "      <td>0.00845</td>\n",
       "      <td>0.041969</td>\n",
       "      <td>0.019467</td>\n",
       "      <td>0.010218</td>\n",
       "      <td>0.013224</td>\n",
       "      <td>0.00473</td>\n",
       "      <td>...</td>\n",
       "      <td>0.007245</td>\n",
       "      <td>0.002336</td>\n",
       "      <td>0.000293</td>\n",
       "      <td>0.01162</td>\n",
       "      <td>NaN</td>\n",
       "      <td>NaN</td>\n",
       "      <td>0.023292</td>\n",
       "      <td>0.002438</td>\n",
       "      <td>0.000668</td>\n",
       "      <td>NaN</td>\n",
       "    </tr>\n",
       "  </tbody>\n",
       "</table>\n",
       "<p>1 rows × 3332 columns</p>\n",
       "</div>"
      ],
      "text/plain": [
       "             Date Weekly_Sales                                         \\\n",
       "Store                       s1                                          \n",
       "Dept                        d1       d10       d11      d12       d13   \n",
       "0      2010-02-05     0.024924  0.030721  0.024213  0.00845  0.041969   \n",
       "\n",
       "                                             ...                      \\\n",
       "Store                                        ...        s9             \n",
       "Dept        d14       d16       d17      d18 ...        d9       d90   \n",
       "0      0.019467  0.010218  0.013224  0.00473 ...  0.007245  0.002336   \n",
       "\n",
       "                                                                    \n",
       "Store                                                               \n",
       "Dept        d91      d92 d93 d94       d95       d96       d97 d98  \n",
       "0      0.000293  0.01162 NaN NaN  0.023292  0.002438  0.000668 NaN  \n",
       "\n",
       "[1 rows x 3332 columns]"
      ]
     },
     "execution_count": 7,
     "metadata": {},
     "output_type": "execute_result"
    }
   ],
   "source": [
    "ptrain1 = train.pivot_table(index='Date', columns=['Store','Dept'], values=['Weekly_Sales'])\n",
    "ptrain1.reset_index(inplace=True)\n",
    "\n",
    "print(ptrain1.shape)\n",
    "ptrain1.head(1)\n"
   ]
  },
  {
   "cell_type": "code",
   "execution_count": 8,
   "metadata": {
    "collapsed": false
   },
   "outputs": [
    {
     "name": "stdout",
     "output_type": "stream",
     "text": [
      "Number of stores = 45\n"
     ]
    },
    {
     "data": {
      "text/html": [
       "<div>\n",
       "<table border=\"1\" class=\"dataframe\">\n",
       "  <thead>\n",
       "    <tr>\n",
       "      <th></th>\n",
       "      <th>Date</th>\n",
       "      <th colspan=\"20\" halign=\"left\">IsHoliday</th>\n",
       "    </tr>\n",
       "    <tr>\n",
       "      <th>Store</th>\n",
       "      <th></th>\n",
       "      <th colspan=\"9\" halign=\"left\">s1</th>\n",
       "      <th>...</th>\n",
       "      <th colspan=\"10\" halign=\"left\">s9</th>\n",
       "    </tr>\n",
       "    <tr>\n",
       "      <th>Dept</th>\n",
       "      <th></th>\n",
       "      <th>d1</th>\n",
       "      <th>d10</th>\n",
       "      <th>d11</th>\n",
       "      <th>d12</th>\n",
       "      <th>d13</th>\n",
       "      <th>d14</th>\n",
       "      <th>d16</th>\n",
       "      <th>d17</th>\n",
       "      <th>d18</th>\n",
       "      <th>...</th>\n",
       "      <th>d9</th>\n",
       "      <th>d90</th>\n",
       "      <th>d91</th>\n",
       "      <th>d92</th>\n",
       "      <th>d93</th>\n",
       "      <th>d94</th>\n",
       "      <th>d95</th>\n",
       "      <th>d96</th>\n",
       "      <th>d97</th>\n",
       "      <th>d98</th>\n",
       "    </tr>\n",
       "  </thead>\n",
       "  <tbody>\n",
       "    <tr>\n",
       "      <th>0</th>\n",
       "      <td>2010-02-05</td>\n",
       "      <td>False</td>\n",
       "      <td>False</td>\n",
       "      <td>False</td>\n",
       "      <td>False</td>\n",
       "      <td>False</td>\n",
       "      <td>False</td>\n",
       "      <td>False</td>\n",
       "      <td>False</td>\n",
       "      <td>False</td>\n",
       "      <td>...</td>\n",
       "      <td>False</td>\n",
       "      <td>False</td>\n",
       "      <td>False</td>\n",
       "      <td>False</td>\n",
       "      <td>NaN</td>\n",
       "      <td>NaN</td>\n",
       "      <td>False</td>\n",
       "      <td>False</td>\n",
       "      <td>False</td>\n",
       "      <td>NaN</td>\n",
       "    </tr>\n",
       "  </tbody>\n",
       "</table>\n",
       "<p>1 rows × 3332 columns</p>\n",
       "</div>"
      ],
      "text/plain": [
       "             Date IsHoliday                                                   \\\n",
       "Store                    s1                                                    \n",
       "Dept                     d1    d10    d11    d12    d13    d14    d16    d17   \n",
       "0      2010-02-05     False  False  False  False  False  False  False  False   \n",
       "\n",
       "             ...                                                              \\\n",
       "Store        ...      s9                                                       \n",
       "Dept     d18 ...      d9    d90    d91    d92  d93  d94    d95    d96    d97   \n",
       "0      False ...   False  False  False  False  NaN  NaN  False  False  False   \n",
       "\n",
       "            \n",
       "Store       \n",
       "Dept   d98  \n",
       "0      NaN  \n",
       "\n",
       "[1 rows x 3332 columns]"
      ]
     },
     "execution_count": 8,
     "metadata": {},
     "output_type": "execute_result"
    }
   ],
   "source": [
    "storeindex = [u's1', u's10', u's11', u's12', u's13', u's14', u's15', u's16', u's17', u's18', u's19', u's2', u's20', u's21', u's22', u's23', u's24', u's25', u's26', u's27', u's28', u's29', u's3', u's30', u's31', u's32', u's33', u's34', u's35', u's36', u's37', u's38', u's39', u's4', u's40', u's41', u's42', u's43', u's44', u's45', u's5', u's6', u's7', u's8', u's9', u'']\n",
    "stores = len(storeindex) - 1\n",
    "print('Number of stores =',stores)\n",
    "\n",
    "ptrain2 = train.pivot_table(index='Date', columns=['Store','Dept'], values=['IsHoliday'])\n",
    "ptrain2.reset_index(inplace=True)\n",
    "ptrain2.head(1)\n"
   ]
  },
  {
   "cell_type": "markdown",
   "metadata": {},
   "source": [
    "### There are 45 stores represented in the database."
   ]
  },
  {
   "cell_type": "code",
   "execution_count": 9,
   "metadata": {
    "collapsed": false
   },
   "outputs": [
    {
     "data": {
      "text/html": [
       "<div>\n",
       "<table border=\"1\" class=\"dataframe\">\n",
       "  <thead>\n",
       "    <tr>\n",
       "      <th></th>\n",
       "      <th>index</th>\n",
       "      <th>Date</th>\n",
       "      <th colspan=\"8\" halign=\"left\">Weekly_Sales</th>\n",
       "      <th>...</th>\n",
       "      <th colspan=\"10\" halign=\"left\">IsHoliday</th>\n",
       "    </tr>\n",
       "    <tr>\n",
       "      <th>Store</th>\n",
       "      <th></th>\n",
       "      <th></th>\n",
       "      <th colspan=\"8\" halign=\"left\">s1</th>\n",
       "      <th>...</th>\n",
       "      <th colspan=\"10\" halign=\"left\">s9</th>\n",
       "    </tr>\n",
       "    <tr>\n",
       "      <th>Dept</th>\n",
       "      <th></th>\n",
       "      <th></th>\n",
       "      <th>d1</th>\n",
       "      <th>d10</th>\n",
       "      <th>d11</th>\n",
       "      <th>d12</th>\n",
       "      <th>d13</th>\n",
       "      <th>d14</th>\n",
       "      <th>d16</th>\n",
       "      <th>d17</th>\n",
       "      <th>...</th>\n",
       "      <th>d9</th>\n",
       "      <th>d90</th>\n",
       "      <th>d91</th>\n",
       "      <th>d92</th>\n",
       "      <th>d93</th>\n",
       "      <th>d94</th>\n",
       "      <th>d95</th>\n",
       "      <th>d96</th>\n",
       "      <th>d97</th>\n",
       "      <th>d98</th>\n",
       "    </tr>\n",
       "  </thead>\n",
       "  <tbody>\n",
       "    <tr>\n",
       "      <th>0</th>\n",
       "      <td>0</td>\n",
       "      <td>2010-02-05</td>\n",
       "      <td>0.024924</td>\n",
       "      <td>0.030721</td>\n",
       "      <td>0.024213</td>\n",
       "      <td>0.00845</td>\n",
       "      <td>0.041969</td>\n",
       "      <td>0.019467</td>\n",
       "      <td>0.010218</td>\n",
       "      <td>0.013224</td>\n",
       "      <td>...</td>\n",
       "      <td>False</td>\n",
       "      <td>False</td>\n",
       "      <td>False</td>\n",
       "      <td>False</td>\n",
       "      <td>NaN</td>\n",
       "      <td>NaN</td>\n",
       "      <td>False</td>\n",
       "      <td>False</td>\n",
       "      <td>False</td>\n",
       "      <td>NaN</td>\n",
       "    </tr>\n",
       "  </tbody>\n",
       "</table>\n",
       "<p>1 rows × 6664 columns</p>\n",
       "</div>"
      ],
      "text/plain": [
       "      index        Date Weekly_Sales                                         \\\n",
       "Store                             s1                                          \n",
       "Dept                              d1       d10       d11      d12       d13   \n",
       "0         0  2010-02-05     0.024924  0.030721  0.024213  0.00845  0.041969   \n",
       "\n",
       "                                    ...  IsHoliday                            \\\n",
       "Store                               ...         s9                             \n",
       "Dept        d14       d16       d17 ...         d9    d90    d91    d92  d93   \n",
       "0      0.019467  0.010218  0.013224 ...      False  False  False  False  NaN   \n",
       "\n",
       "                                      \n",
       "Store                                 \n",
       "Dept   d94    d95    d96    d97  d98  \n",
       "0      NaN  False  False  False  NaN  \n",
       "\n",
       "[1 rows x 6664 columns]"
      ]
     },
     "execution_count": 9,
     "metadata": {},
     "output_type": "execute_result"
    }
   ],
   "source": [
    "ptrain = ptrain1.merge(ptrain2)\n",
    "pdata = ptrain.reset_index()\n",
    "pdata.head(1)"
   ]
  },
  {
   "cell_type": "code",
   "execution_count": null,
   "metadata": {
    "collapsed": true
   },
   "outputs": [],
   "source": []
  },
  {
   "cell_type": "code",
   "execution_count": 10,
   "metadata": {
    "collapsed": false
   },
   "outputs": [],
   "source": [
    "weeklysales = pdata[['Date','Weekly_Sales']]\n",
    "weeklysales.head(1)\n",
    "dates = weeklysales.loc[:,'Date']\n",
    "#weeklysales.iloc[:, weeklysales.columns.get_level_values(2)=='d97']"
   ]
  },
  {
   "cell_type": "code",
   "execution_count": null,
   "metadata": {
    "collapsed": true
   },
   "outputs": [],
   "source": []
  },
  {
   "cell_type": "code",
   "execution_count": 11,
   "metadata": {
    "collapsed": false
   },
   "outputs": [
    {
     "data": {
      "text/html": [
       "<div>\n",
       "<table border=\"1\" class=\"dataframe\">\n",
       "  <thead>\n",
       "    <tr style=\"text-align: right;\">\n",
       "      <th></th>\n",
       "      <th>Date</th>\n",
       "      <th>d1</th>\n",
       "    </tr>\n",
       "  </thead>\n",
       "  <tbody>\n",
       "    <tr>\n",
       "      <th>0</th>\n",
       "      <td>2010-02-05</td>\n",
       "      <td>0.881833</td>\n",
       "    </tr>\n",
       "  </tbody>\n",
       "</table>\n",
       "</div>"
      ],
      "text/plain": [
       "         Date        d1\n",
       "0  2010-02-05  0.881833"
      ]
     },
     "execution_count": 11,
     "metadata": {},
     "output_type": "execute_result"
    }
   ],
   "source": [
    "# Summing sales per department over all stores\n",
    "def deptsales(deptnum):\n",
    "    return weeklysales.iloc[:, weeklysales.columns.get_level_values(2)==deptnum].sum(axis=1)\n",
    "    \n",
    "dept1 = pd.DataFrame.from_items([('Date',dates),('d1',deptsales('d1'))])\n",
    "dept1.head(1)"
   ]
  },
  {
   "cell_type": "raw",
   "metadata": {},
   "source": []
  },
  {
   "cell_type": "code",
   "execution_count": null,
   "metadata": {
    "collapsed": false
   },
   "outputs": [],
   "source": []
  },
  {
   "cell_type": "code",
   "execution_count": null,
   "metadata": {
    "collapsed": true
   },
   "outputs": [],
   "source": []
  },
  {
   "cell_type": "code",
   "execution_count": 12,
   "metadata": {
    "collapsed": false,
    "scrolled": true
   },
   "outputs": [
    {
     "data": {
      "text/plain": [
       "<matplotlib.text.Text at 0x1054914e0>"
      ]
     },
     "execution_count": 12,
     "metadata": {},
     "output_type": "execute_result"
    },
    {
     "data": {
      "image/png": "[encoded data removed]",
      "text/plain": [
       "<matplotlib.figure.Figure at 0x10546b0f0>"
      ]
     },
     "metadata": {},
     "output_type": "display_data"
    }
   ],
   "source": [
    "#fig, ax = plt.subplots()\n",
    "#date = dept1.Date.values\n",
    "#data = dept1.d1.values\n",
    "#ax.plot(date, data)\n",
    "#ax.plot(a, d, 'k:', label='Data length')\n",
    "#ax.plot(a, c+d, 'k', label='Total message length')\n",
    "\n",
    "# Now add the legend with some customizations.\n",
    "#legend = ax.legend(loc='upper center', shadow=True)\n",
    "ax = dept1.plot('Date','d1',rot=90,label='Dept 1 sales')\n",
    "ax.set_ylabel('USD $M')"
   ]
  },
  {
   "cell_type": "code",
   "execution_count": null,
   "metadata": {
    "collapsed": true
   },
   "outputs": [],
   "source": []
  },
  {
   "cell_type": "code",
   "execution_count": 13,
   "metadata": {
    "collapsed": false
   },
   "outputs": [],
   "source": [
    "max = dept1['d1'].max()\n",
    "min = dept1['d1'].min()\n",
    "dept1ratio = max/min"
   ]
  },
  {
   "cell_type": "code",
   "execution_count": 14,
   "metadata": {
    "collapsed": false
   },
   "outputs": [
    {
     "data": {
      "text/html": [
       "<div>\n",
       "<table border=\"1\" class=\"dataframe\">\n",
       "  <thead>\n",
       "    <tr style=\"text-align: right;\">\n",
       "      <th></th>\n",
       "      <th>Date</th>\n",
       "      <th>IsHoliday</th>\n",
       "    </tr>\n",
       "  </thead>\n",
       "  <tbody>\n",
       "    <tr>\n",
       "      <th>1</th>\n",
       "      <td>2010-02-12</td>\n",
       "      <td>True</td>\n",
       "    </tr>\n",
       "    <tr>\n",
       "      <th>8</th>\n",
       "      <td>2010-04-02</td>\n",
       "      <td>False</td>\n",
       "    </tr>\n",
       "    <tr>\n",
       "      <th>9</th>\n",
       "      <td>2010-04-09</td>\n",
       "      <td>False</td>\n",
       "    </tr>\n",
       "    <tr>\n",
       "      <th>38</th>\n",
       "      <td>2010-10-29</td>\n",
       "      <td>False</td>\n",
       "    </tr>\n",
       "    <tr>\n",
       "      <th>39</th>\n",
       "      <td>2010-11-05</td>\n",
       "      <td>False</td>\n",
       "    </tr>\n",
       "  </tbody>\n",
       "</table>\n",
       "</div>"
      ],
      "text/plain": [
       "          Date IsHoliday\n",
       "1   2010-02-12      True\n",
       "8   2010-04-02     False\n",
       "9   2010-04-09     False\n",
       "38  2010-10-29     False\n",
       "39  2010-11-05     False"
      ]
     },
     "execution_count": 14,
     "metadata": {},
     "output_type": "execute_result"
    }
   ],
   "source": [
    "# Sales peak detection\n",
    "thresh = 0.5\n",
    "dept1peaks = dept1[dept1['d1'] > dept1ratio*thresh*min]\n",
    "holiday = pd.DataFrame.from_items([('Date',ptrain2['Date']),('IsHoliday',ptrain2[('IsHoliday','s1','d1')])])\n",
    "peaks1 = pd.concat([dept1peaks['Date'], holiday.IsHoliday.iloc[dept1peaks.index]],axis=1)\n",
    "peaks1.head()\n"
   ]
  },
  {
   "cell_type": "markdown",
   "metadata": {},
   "source": [
    "### Department 1 sales, while tightly cyclical, seems to enjoy peak sales in April (Easter?) with other local maximums occuring what looks like Valentine's Day, Halloween and Christmas."
   ]
  },
  {
   "cell_type": "code",
   "execution_count": 15,
   "metadata": {
    "collapsed": false
   },
   "outputs": [
    {
     "data": {
      "text/html": [
       "<div>\n",
       "<table border=\"1\" class=\"dataframe\">\n",
       "  <thead>\n",
       "    <tr style=\"text-align: right;\">\n",
       "      <th></th>\n",
       "      <th>Date</th>\n",
       "      <th>d1</th>\n",
       "    </tr>\n",
       "  </thead>\n",
       "  <tbody>\n",
       "    <tr>\n",
       "      <th>0</th>\n",
       "      <td>2010-02-05</td>\n",
       "      <td>0.881833</td>\n",
       "    </tr>\n",
       "    <tr>\n",
       "      <th>1</th>\n",
       "      <td>2010-02-12</td>\n",
       "      <td>1.457182</td>\n",
       "    </tr>\n",
       "  </tbody>\n",
       "</table>\n",
       "</div>"
      ],
      "text/plain": [
       "         Date        d1\n",
       "0  2010-02-05  0.881833\n",
       "1  2010-02-12  1.457182"
      ]
     },
     "execution_count": 15,
     "metadata": {},
     "output_type": "execute_result"
    }
   ],
   "source": [
    "#Initializing \n",
    "alldeptsales = dept1\n",
    "alldeptsales.head(2)"
   ]
  },
  {
   "cell_type": "code",
   "execution_count": 16,
   "metadata": {
    "collapsed": false
   },
   "outputs": [
    {
     "data": {
      "text/html": [
       "<div>\n",
       "<table border=\"1\" class=\"dataframe\">\n",
       "  <thead>\n",
       "    <tr style=\"text-align: right;\">\n",
       "      <th></th>\n",
       "      <th>Date</th>\n",
       "      <th>d1</th>\n",
       "      <th>d2</th>\n",
       "      <th>d3</th>\n",
       "      <th>d4</th>\n",
       "      <th>d5</th>\n",
       "      <th>d6</th>\n",
       "      <th>d7</th>\n",
       "      <th>d8</th>\n",
       "      <th>d9</th>\n",
       "      <th>...</th>\n",
       "      <th>d89</th>\n",
       "      <th>d90</th>\n",
       "      <th>d91</th>\n",
       "      <th>d92</th>\n",
       "      <th>d93</th>\n",
       "      <th>d94</th>\n",
       "      <th>d95</th>\n",
       "      <th>d96</th>\n",
       "      <th>d97</th>\n",
       "      <th>d98</th>\n",
       "    </tr>\n",
       "  </thead>\n",
       "  <tbody>\n",
       "    <tr>\n",
       "      <th>0</th>\n",
       "      <td>2010-02-05</td>\n",
       "      <td>0.881833</td>\n",
       "      <td>1.997832</td>\n",
       "      <td>0.484369</td>\n",
       "      <td>1.205802</td>\n",
       "      <td>1.116953</td>\n",
       "      <td>0.206793</td>\n",
       "      <td>0.764968</td>\n",
       "      <td>1.527438</td>\n",
       "      <td>0.535728</td>\n",
       "      <td>...</td>\n",
       "      <td>0</td>\n",
       "      <td>2.199108</td>\n",
       "      <td>1.755822</td>\n",
       "      <td>3.781163</td>\n",
       "      <td>1.165222</td>\n",
       "      <td>1.301383</td>\n",
       "      <td>3.170530</td>\n",
       "      <td>0.404386</td>\n",
       "      <td>0.656075</td>\n",
       "      <td>0.293125</td>\n",
       "    </tr>\n",
       "    <tr>\n",
       "      <th>1</th>\n",
       "      <td>2010-02-12</td>\n",
       "      <td>1.457182</td>\n",
       "      <td>1.839218</td>\n",
       "      <td>0.429341</td>\n",
       "      <td>1.075082</td>\n",
       "      <td>1.148132</td>\n",
       "      <td>0.252087</td>\n",
       "      <td>0.781977</td>\n",
       "      <td>1.375373</td>\n",
       "      <td>0.562175</td>\n",
       "      <td>...</td>\n",
       "      <td>0</td>\n",
       "      <td>2.031157</td>\n",
       "      <td>1.603013</td>\n",
       "      <td>3.443837</td>\n",
       "      <td>1.077423</td>\n",
       "      <td>1.317070</td>\n",
       "      <td>2.976149</td>\n",
       "      <td>0.448865</td>\n",
       "      <td>0.613649</td>\n",
       "      <td>0.377483</td>\n",
       "    </tr>\n",
       "  </tbody>\n",
       "</table>\n",
       "<p>2 rows × 99 columns</p>\n",
       "</div>"
      ],
      "text/plain": [
       "         Date        d1        d2        d3        d4        d5        d6  \\\n",
       "0  2010-02-05  0.881833  1.997832  0.484369  1.205802  1.116953  0.206793   \n",
       "1  2010-02-12  1.457182  1.839218  0.429341  1.075082  1.148132  0.252087   \n",
       "\n",
       "         d7        d8        d9    ...     d89       d90       d91       d92  \\\n",
       "0  0.764968  1.527438  0.535728    ...       0  2.199108  1.755822  3.781163   \n",
       "1  0.781977  1.375373  0.562175    ...       0  2.031157  1.603013  3.443837   \n",
       "\n",
       "        d93       d94       d95       d96       d97       d98  \n",
       "0  1.165222  1.301383  3.170530  0.404386  0.656075  0.293125  \n",
       "1  1.077423  1.317070  2.976149  0.448865  0.613649  0.377483  \n",
       "\n",
       "[2 rows x 99 columns]"
      ]
     },
     "execution_count": 16,
     "metadata": {},
     "output_type": "execute_result"
    }
   ],
   "source": [
    "drange = np.asarray(range(2,depts)).astype(str)\n",
    "for i in drange:\n",
    "    i = 'd' + i\n",
    "    alldeptsales[i]=deptsales(i)\n",
    "\n",
    "alldeptsales.head(2)"
   ]
  },
  {
   "cell_type": "code",
   "execution_count": 44,
   "metadata": {
    "collapsed": false
   },
   "outputs": [
    {
     "data": {
      "image/png": "[encoded data removed]",
      "text/plain": [
       "<matplotlib.figure.Figure at 0x113fab0f0>"
      ]
     },
     "metadata": {},
     "output_type": "display_data"
    }
   ],
   "source": [
    "alldeptsales[\"total_sales\"] = alldeptsales.loc[:,'d1':'d98'].sum(axis=1)\n",
    "alldeptsales.plot('Date','total_sales',rot=90,label=\"Total Sales by Week\")\n",
    "fig = plt.gcf()\n",
    "fig.set_size_inches(18.5, 10.5)\n",
    "#fig.savefig('test2png.png', dpi=100)"
   ]
  },
  {
   "cell_type": "code",
   "execution_count": null,
   "metadata": {
    "collapsed": true
   },
   "outputs": [],
   "source": []
  },
  {
   "cell_type": "markdown",
   "metadata": {},
   "source": [
    "### Total sales across all departments and stores are also very cyclical with peaks around Thanksgiving and Christmas."
   ]
  },
  {
   "cell_type": "code",
   "execution_count": null,
   "metadata": {
    "collapsed": true
   },
   "outputs": [],
   "source": []
  },
  {
   "cell_type": "code",
   "execution_count": 18,
   "metadata": {
    "collapsed": false
   },
   "outputs": [
    {
     "data": {
      "text/plain": [
       "(143, 100)"
      ]
     },
     "execution_count": 18,
     "metadata": {},
     "output_type": "execute_result"
    }
   ],
   "source": [
    "alldeptsales.shape"
   ]
  },
  {
   "cell_type": "code",
   "execution_count": null,
   "metadata": {
    "collapsed": true
   },
   "outputs": [],
   "source": []
  },
  {
   "cell_type": "code",
   "execution_count": null,
   "metadata": {
    "collapsed": true
   },
   "outputs": [],
   "source": []
  },
  {
   "cell_type": "code",
   "execution_count": 19,
   "metadata": {
    "collapsed": false
   },
   "outputs": [],
   "source": [
    "df = alldeptsales\n",
    "df[df==0] = np.nan\n",
    "df=df.dropna(axis=1,how='all')\n",
    "df.shape\n",
    "depts = df.shape[1]"
   ]
  },
  {
   "cell_type": "markdown",
   "metadata": {},
   "source": [
    "###  After cleaning up the pivot table, it looks like while the department numbers go up to 99, there are, in fact, only 81 departments since some numbers were skipped by all stores."
   ]
  },
  {
   "cell_type": "code",
   "execution_count": 20,
   "metadata": {
    "collapsed": false
   },
   "outputs": [],
   "source": [
    "alldeptsales = df\n",
    "#alldeptsales.columns"
   ]
  },
  {
   "cell_type": "code",
   "execution_count": 21,
   "metadata": {
    "collapsed": false
   },
   "outputs": [
    {
     "data": {
      "text/plain": [
       "<matplotlib.axes._subplots.AxesSubplot at 0x10c87b668>"
      ]
     },
     "execution_count": 21,
     "metadata": {},
     "output_type": "execute_result"
    },
    {
     "data": {
      "image/png": "[encoded data removed]",
      "text/plain": [
       "<matplotlib.figure.Figure at 0x10c8cd400>"
      ]
     },
     "metadata": {},
     "output_type": "display_data"
    }
   ],
   "source": [
    "alldeptsales.plot('Date','d3',rot=90)"
   ]
  },
  {
   "cell_type": "code",
   "execution_count": 22,
   "metadata": {
    "collapsed": false
   },
   "outputs": [
    {
     "name": "stdout",
     "output_type": "stream",
     "text": [
      "           Date IsHoliday\n",
      "29   2010-08-27     False\n",
      "80   2011-08-19     False\n",
      "81   2011-08-26     False\n",
      "133  2012-08-24     False\n",
      "134  2012-08-31     False\n"
     ]
    }
   ],
   "source": [
    "thresh = 0.9\n",
    "dept3 = pd.DataFrame.from_items([('Date',dates),('d3',alldeptsales.d3)])\n",
    "max = dept3['d3'].max()\n",
    "min = dept3['d3'].min()\n",
    "dept3ratio = max/min\n",
    "dept3peaks = dept3[dept3['d3'] > dept3ratio*thresh*min]\n",
    "peaks3 = pd.concat([dept3peaks['Date'], holiday.IsHoliday.iloc[dept3peaks.index]],axis=1)\n",
    "print(peaks3)"
   ]
  },
  {
   "cell_type": "markdown",
   "metadata": {},
   "source": [
    "### Department 3 sales have singular peaks in the latter half of August, at the end of summer vacation.  Back-to-school items?"
   ]
  },
  {
   "cell_type": "code",
   "execution_count": 23,
   "metadata": {
    "collapsed": false,
    "scrolled": true
   },
   "outputs": [],
   "source": [
    "#Write a function that does sales peak detection\n",
    "def salespeak(deptnum,threshold):\n",
    "    dept = pd.DataFrame.from_items([('Date',dates),(deptnum,alldeptsales[deptnum])])\n",
    "    max = dept[deptnum].max()\n",
    "    min = dept[deptnum].min()\n",
    "    deptratio = max/min\n",
    "    if deptratio > 2:\n",
    "        dept.plot('Date',deptnum,rot=90)\n",
    "        return dept[dept[deptnum] > deptratio*threshold*min]\n",
    "    else:\n",
    "        print('No prominent peaks found')\n",
    "        "
   ]
  },
  {
   "cell_type": "code",
   "execution_count": 24,
   "metadata": {
    "collapsed": false
   },
   "outputs": [
    {
     "name": "stdout",
     "output_type": "stream",
     "text": [
      "No prominent peaks found\n"
     ]
    }
   ],
   "source": [
    "\n",
    "salespeak('d4',0.9)\n"
   ]
  },
  {
   "cell_type": "markdown",
   "metadata": {},
   "source": [
    "### Department 4 sales is mostly flat and have very little seasonality."
   ]
  },
  {
   "cell_type": "code",
   "execution_count": 25,
   "metadata": {
    "collapsed": false
   },
   "outputs": [
    {
     "data": {
      "text/html": [
       "<div>\n",
       "<table border=\"1\" class=\"dataframe\">\n",
       "  <thead>\n",
       "    <tr style=\"text-align: right;\">\n",
       "      <th></th>\n",
       "      <th>index</th>\n",
       "      <th>Date</th>\n",
       "      <th>0</th>\n",
       "    </tr>\n",
       "  </thead>\n",
       "  <tbody>\n",
       "    <tr>\n",
       "      <th>0</th>\n",
       "      <td>42</td>\n",
       "      <td>2010-11-26</td>\n",
       "      <td>True</td>\n",
       "    </tr>\n",
       "    <tr>\n",
       "      <th>1</th>\n",
       "      <td>45</td>\n",
       "      <td>2010-12-17</td>\n",
       "      <td>True</td>\n",
       "    </tr>\n",
       "    <tr>\n",
       "      <th>2</th>\n",
       "      <td>46</td>\n",
       "      <td>2010-12-24</td>\n",
       "      <td>True</td>\n",
       "    </tr>\n",
       "    <tr>\n",
       "      <th>3</th>\n",
       "      <td>94</td>\n",
       "      <td>2011-11-25</td>\n",
       "      <td>True</td>\n",
       "    </tr>\n",
       "    <tr>\n",
       "      <th>4</th>\n",
       "      <td>98</td>\n",
       "      <td>2011-12-23</td>\n",
       "      <td>True</td>\n",
       "    </tr>\n",
       "  </tbody>\n",
       "</table>\n",
       "</div>"
      ],
      "text/plain": [
       "   index        Date     0\n",
       "0     42  2010-11-26  True\n",
       "1     45  2010-12-17  True\n",
       "2     46  2010-12-24  True\n",
       "3     94  2011-11-25  True\n",
       "4     98  2011-12-23  True"
      ]
     },
     "execution_count": 25,
     "metadata": {},
     "output_type": "execute_result"
    },
    {
     "data": {
      "image/png": "[encoded data removed]",
      "text/plain": [
       "<matplotlib.figure.Figure at 0x10c30c828>"
      ]
     },
     "metadata": {},
     "output_type": "display_data"
    }
   ],
   "source": [
    "deptpeak = salespeak('d5',0.7)\n",
    "\n",
    "# This function look designated number of weeks forward do we look for whether sales is leading to a holiday\n",
    "\n",
    "def holiday_sales(window,deptpeak):\n",
    "    temp = pd.Series(holiday.IsHoliday.iloc[deptpeak.index]).values \n",
    "    for i in range(1,window+1):\n",
    "        temp = pd.Series(holiday.IsHoliday.iloc[deptpeak.index+i].values | temp)\n",
    "    isholiday = pd.concat([deptpeak.Date.reset_index(),temp],axis=1)\n",
    "    return isholiday\n",
    "\n",
    "holiday_sales(2,deptpeak)\n"
   ]
  },
  {
   "cell_type": "markdown",
   "metadata": {},
   "source": [
    "### Department 5 has peak sales during Thanksgiving and Christmas."
   ]
  },
  {
   "cell_type": "code",
   "execution_count": null,
   "metadata": {
    "collapsed": true
   },
   "outputs": [],
   "source": []
  },
  {
   "cell_type": "code",
   "execution_count": 26,
   "metadata": {
    "collapsed": false
   },
   "outputs": [
    {
     "data": {
      "text/html": [
       "<div>\n",
       "<table border=\"1\" class=\"dataframe\">\n",
       "  <thead>\n",
       "    <tr>\n",
       "      <th></th>\n",
       "      <th>Date</th>\n",
       "      <th colspan=\"20\" halign=\"left\">Weekly_Sales</th>\n",
       "    </tr>\n",
       "    <tr>\n",
       "      <th>Store</th>\n",
       "      <th></th>\n",
       "      <th colspan=\"9\" halign=\"left\">s1</th>\n",
       "      <th>...</th>\n",
       "      <th colspan=\"10\" halign=\"left\">s9</th>\n",
       "    </tr>\n",
       "    <tr>\n",
       "      <th>Dept</th>\n",
       "      <th></th>\n",
       "      <th>d1</th>\n",
       "      <th>d10</th>\n",
       "      <th>d11</th>\n",
       "      <th>d12</th>\n",
       "      <th>d13</th>\n",
       "      <th>d14</th>\n",
       "      <th>d16</th>\n",
       "      <th>d17</th>\n",
       "      <th>d18</th>\n",
       "      <th>...</th>\n",
       "      <th>d9</th>\n",
       "      <th>d90</th>\n",
       "      <th>d91</th>\n",
       "      <th>d92</th>\n",
       "      <th>d93</th>\n",
       "      <th>d94</th>\n",
       "      <th>d95</th>\n",
       "      <th>d96</th>\n",
       "      <th>d97</th>\n",
       "      <th>d98</th>\n",
       "    </tr>\n",
       "  </thead>\n",
       "  <tbody>\n",
       "    <tr>\n",
       "      <th>1</th>\n",
       "      <td>2010-02-12</td>\n",
       "      <td>0.046039</td>\n",
       "      <td>0.031495</td>\n",
       "      <td>0.021761</td>\n",
       "      <td>0.008654</td>\n",
       "      <td>0.036476</td>\n",
       "      <td>0.018129</td>\n",
       "      <td>0.011874</td>\n",
       "      <td>0.013404</td>\n",
       "      <td>0.019006</td>\n",
       "      <td>...</td>\n",
       "      <td>0.006557</td>\n",
       "      <td>0.002486</td>\n",
       "      <td>0.000545</td>\n",
       "      <td>0.011081</td>\n",
       "      <td>NaN</td>\n",
       "      <td>0.000983</td>\n",
       "      <td>0.022317</td>\n",
       "      <td>0.002304</td>\n",
       "      <td>0.000767</td>\n",
       "      <td>NaN</td>\n",
       "    </tr>\n",
       "  </tbody>\n",
       "</table>\n",
       "<p>1 rows × 3332 columns</p>\n",
       "</div>"
      ],
      "text/plain": [
       "             Date Weekly_Sales                                          \\\n",
       "Store                       s1                                           \n",
       "Dept                        d1       d10       d11       d12       d13   \n",
       "1      2010-02-12     0.046039  0.031495  0.021761  0.008654  0.036476   \n",
       "\n",
       "                                              ...                      \\\n",
       "Store                                         ...        s9             \n",
       "Dept        d14       d16       d17       d18 ...        d9       d90   \n",
       "1      0.018129  0.011874  0.013404  0.019006 ...  0.006557  0.002486   \n",
       "\n",
       "                                                                           \n",
       "Store                                                                      \n",
       "Dept        d91       d92 d93       d94       d95       d96       d97 d98  \n",
       "1      0.000545  0.011081 NaN  0.000983  0.022317  0.002304  0.000767 NaN  \n",
       "\n",
       "[1 rows x 3332 columns]"
      ]
     },
     "execution_count": 26,
     "metadata": {},
     "output_type": "execute_result"
    }
   ],
   "source": [
    "dept1 = ptrain1[ptrain1.index==1]\n",
    "dept1.head(3)"
   ]
  },
  {
   "cell_type": "code",
   "execution_count": 27,
   "metadata": {
    "collapsed": false
   },
   "outputs": [],
   "source": [
    "def salesplot(s1,d1,s2,d2):\n",
    "    deptsales1 = train[(train.Store==s1) & (train.Dept==d1)]\n",
    "    deptsales2 = train[(train.Store==s2) & (train.Dept==d2)]\n",
    "    ax = deptsales1.plot('Date','Weekly_Sales',kind='line',rot=90)\n",
    "    deptsales2.plot('Date','Weekly_Sales',kind='line',rot=90,ax=ax)\n",
    "#    plt.show()"
   ]
  },
  {
   "cell_type": "code",
   "execution_count": 28,
   "metadata": {
    "collapsed": false,
    "scrolled": true
   },
   "outputs": [
    {
     "data": {
      "image/png": "[encoded data removed]",
      "text/plain": [
       "<matplotlib.figure.Figure at 0x10c9f1ba8>"
      ]
     },
     "metadata": {},
     "output_type": "display_data"
    }
   ],
   "source": [
    "salesplot('s1','d1','s2','d1')"
   ]
  },
  {
   "cell_type": "markdown",
   "metadata": {},
   "source": [
    "### You can see that the same department but in different stores exhibit similar patterns."
   ]
  },
  {
   "cell_type": "code",
   "execution_count": 29,
   "metadata": {
    "collapsed": false
   },
   "outputs": [
    {
     "data": {
      "image/png": "[encoded data removed]",
      "text/plain": [
       "<matplotlib.figure.Figure at 0x10ea872e8>"
      ]
     },
     "metadata": {},
     "output_type": "display_data"
    }
   ],
   "source": [
    "salesplot('s1','d1','s1','d2')"
   ]
  },
  {
   "cell_type": "markdown",
   "metadata": {},
   "source": [
    "### On the contrary, different departments in the same store have very different patterns.  "
   ]
  },
  {
   "cell_type": "code",
   "execution_count": null,
   "metadata": {
    "collapsed": false
   },
   "outputs": [],
   "source": []
  },
  {
   "cell_type": "markdown",
   "metadata": {},
   "source": [
    "Just re-affirming that same department, different stores yield same patterns"
   ]
  },
  {
   "cell_type": "code",
   "execution_count": null,
   "metadata": {
    "collapsed": false
   },
   "outputs": [],
   "source": []
  },
  {
   "cell_type": "markdown",
   "metadata": {},
   "source": [
    "Again, reaffirming that within same store different departments yield very different patterns.  All departments in all stores seem to have regular cycles. "
   ]
  },
  {
   "cell_type": "markdown",
   "metadata": {},
   "source": [
    "Let's look at holiday vs non-holiday performance"
   ]
  },
  {
   "cell_type": "code",
   "execution_count": 30,
   "metadata": {
    "collapsed": false
   },
   "outputs": [
    {
     "data": {
      "text/html": [
       "<div>\n",
       "<table border=\"1\" class=\"dataframe\">\n",
       "  <thead>\n",
       "    <tr style=\"text-align: right;\">\n",
       "      <th></th>\n",
       "      <th>Store</th>\n",
       "      <th>Dept</th>\n",
       "      <th>Date</th>\n",
       "      <th>Weekly_Sales</th>\n",
       "      <th>IsHoliday</th>\n",
       "    </tr>\n",
       "  </thead>\n",
       "  <tbody>\n",
       "    <tr>\n",
       "      <th>0</th>\n",
       "      <td>s1</td>\n",
       "      <td>d1</td>\n",
       "      <td>2010-02-05</td>\n",
       "      <td>0.024924</td>\n",
       "      <td>False</td>\n",
       "    </tr>\n",
       "    <tr>\n",
       "      <th>1</th>\n",
       "      <td>s1</td>\n",
       "      <td>d1</td>\n",
       "      <td>2010-02-12</td>\n",
       "      <td>0.046039</td>\n",
       "      <td>True</td>\n",
       "    </tr>\n",
       "    <tr>\n",
       "      <th>2</th>\n",
       "      <td>s1</td>\n",
       "      <td>d1</td>\n",
       "      <td>2010-02-19</td>\n",
       "      <td>0.041596</td>\n",
       "      <td>False</td>\n",
       "    </tr>\n",
       "  </tbody>\n",
       "</table>\n",
       "</div>"
      ],
      "text/plain": [
       "  Store Dept        Date  Weekly_Sales IsHoliday\n",
       "0    s1   d1  2010-02-05      0.024924     False\n",
       "1    s1   d1  2010-02-12      0.046039      True\n",
       "2    s1   d1  2010-02-19      0.041596     False"
      ]
     },
     "execution_count": 30,
     "metadata": {},
     "output_type": "execute_result"
    }
   ],
   "source": [
    "train.head(3)"
   ]
  },
  {
   "cell_type": "code",
   "execution_count": 46,
   "metadata": {
    "collapsed": false
   },
   "outputs": [
    {
     "name": "stdout",
     "output_type": "stream",
     "text": [
      "Top Departments by Sales\n"
     ]
    },
    {
     "data": {
      "text/html": [
       "<div>\n",
       "<table border=\"1\" class=\"dataframe\">\n",
       "  <thead>\n",
       "    <tr style=\"text-align: right;\">\n",
       "      <th></th>\n",
       "      <th>Dept</th>\n",
       "      <th>Weekly_Sales</th>\n",
       "      <th>IsHoliday</th>\n",
       "    </tr>\n",
       "  </thead>\n",
       "  <tbody>\n",
       "    <tr>\n",
       "      <th>73</th>\n",
       "      <td>d92</td>\n",
       "      <td>483.943342</td>\n",
       "      <td>450</td>\n",
       "    </tr>\n",
       "    <tr>\n",
       "      <th>76</th>\n",
       "      <td>d95</td>\n",
       "      <td>449.320163</td>\n",
       "      <td>450</td>\n",
       "    </tr>\n",
       "    <tr>\n",
       "      <th>30</th>\n",
       "      <td>d38</td>\n",
       "      <td>393.118137</td>\n",
       "      <td>450</td>\n",
       "    </tr>\n",
       "    <tr>\n",
       "      <th>58</th>\n",
       "      <td>d72</td>\n",
       "      <td>305.725152</td>\n",
       "      <td>425</td>\n",
       "    </tr>\n",
       "    <tr>\n",
       "      <th>71</th>\n",
       "      <td>d90</td>\n",
       "      <td>291.068464</td>\n",
       "      <td>450</td>\n",
       "    </tr>\n",
       "  </tbody>\n",
       "</table>\n",
       "</div>"
      ],
      "text/plain": [
       "   Dept  Weekly_Sales  IsHoliday\n",
       "73  d92    483.943342        450\n",
       "76  d95    449.320163        450\n",
       "30  d38    393.118137        450\n",
       "58  d72    305.725152        425\n",
       "71  d90    291.068464        450"
      ]
     },
     "execution_count": 46,
     "metadata": {},
     "output_type": "execute_result"
    },
    {
     "data": {
      "image/png": "[encoded data removed]",
      "text/plain": [
       "<matplotlib.figure.Figure at 0x10f8d9550>"
      ]
     },
     "metadata": {},
     "output_type": "display_data"
    }
   ],
   "source": [
    "deptsums = train.groupby('Dept').sum()\n",
    "deptsums.reset_index(inplace=True)\n",
    "deptsums.drop(deptsums.Weekly_Sales==0)\n",
    "#deptsums.plot('Dept','Weekly_Sales')\n",
    "deptsumshilo=deptsums.sort_values('Weekly_Sales',ascending=False)\n",
    "deptsumshilo.plot('Dept','Weekly_Sales',kind='bar',label='Total Sales by Department')\n",
    "fig = plt.gcf()\n",
    "fig.set_size_inches(18.5, 10.5)\n",
    "#fig.savefig('test2png.png', dpi=100)\n",
    "\n",
    "print('Top Departments by Sales')\n",
    "deptsumshilo.head(5)\n"
   ]
  },
  {
   "cell_type": "markdown",
   "metadata": {
    "collapsed": true
   },
   "source": [
    "### Distribution of total sales over the 2.5 year span of data has a very long tail."
   ]
  },
  {
   "cell_type": "code",
   "execution_count": 32,
   "metadata": {
    "collapsed": false
   },
   "outputs": [
    {
     "data": {
      "text/html": [
       "<div>\n",
       "<table border=\"1\" class=\"dataframe\">\n",
       "  <thead>\n",
       "    <tr style=\"text-align: right;\">\n",
       "      <th></th>\n",
       "      <th>Store</th>\n",
       "      <th>Dept</th>\n",
       "      <th>Date</th>\n",
       "      <th>IsHoliday</th>\n",
       "    </tr>\n",
       "  </thead>\n",
       "  <tbody>\n",
       "    <tr>\n",
       "      <th>0</th>\n",
       "      <td>1</td>\n",
       "      <td>1</td>\n",
       "      <td>2012-11-02</td>\n",
       "      <td>False</td>\n",
       "    </tr>\n",
       "    <tr>\n",
       "      <th>1</th>\n",
       "      <td>1</td>\n",
       "      <td>1</td>\n",
       "      <td>2012-11-09</td>\n",
       "      <td>False</td>\n",
       "    </tr>\n",
       "    <tr>\n",
       "      <th>2</th>\n",
       "      <td>1</td>\n",
       "      <td>1</td>\n",
       "      <td>2012-11-16</td>\n",
       "      <td>False</td>\n",
       "    </tr>\n",
       "    <tr>\n",
       "      <th>3</th>\n",
       "      <td>1</td>\n",
       "      <td>1</td>\n",
       "      <td>2012-11-23</td>\n",
       "      <td>True</td>\n",
       "    </tr>\n",
       "    <tr>\n",
       "      <th>4</th>\n",
       "      <td>1</td>\n",
       "      <td>1</td>\n",
       "      <td>2012-11-30</td>\n",
       "      <td>False</td>\n",
       "    </tr>\n",
       "  </tbody>\n",
       "</table>\n",
       "</div>"
      ],
      "text/plain": [
       "   Store  Dept        Date IsHoliday\n",
       "0      1     1  2012-11-02     False\n",
       "1      1     1  2012-11-09     False\n",
       "2      1     1  2012-11-16     False\n",
       "3      1     1  2012-11-23      True\n",
       "4      1     1  2012-11-30     False"
      ]
     },
     "execution_count": 32,
     "metadata": {},
     "output_type": "execute_result"
    }
   ],
   "source": [
    "test.head()"
   ]
  },
  {
   "cell_type": "code",
   "execution_count": null,
   "metadata": {
    "collapsed": true
   },
   "outputs": [],
   "source": []
  },
  {
   "cell_type": "code",
   "execution_count": 33,
   "metadata": {
    "collapsed": false
   },
   "outputs": [],
   "source": [
    "test = pd.read_csv('test.csv')"
   ]
  },
  {
   "cell_type": "code",
   "execution_count": null,
   "metadata": {
    "collapsed": true
   },
   "outputs": [],
   "source": []
  },
  {
   "cell_type": "code",
   "execution_count": null,
   "metadata": {
    "collapsed": true
   },
   "outputs": [],
   "source": []
  },
  {
   "cell_type": "code",
   "execution_count": null,
   "metadata": {
    "collapsed": true
   },
   "outputs": [],
   "source": []
  },
  {
   "cell_type": "code",
   "execution_count": 34,
   "metadata": {
    "collapsed": false
   },
   "outputs": [
    {
     "data": {
      "text/html": [
       "<div>\n",
       "<table border=\"1\" class=\"dataframe\">\n",
       "  <thead>\n",
       "    <tr style=\"text-align: right;\">\n",
       "      <th></th>\n",
       "      <th>Store</th>\n",
       "      <th>Type</th>\n",
       "      <th>Size</th>\n",
       "    </tr>\n",
       "  </thead>\n",
       "  <tbody>\n",
       "    <tr>\n",
       "      <th>0</th>\n",
       "      <td>1</td>\n",
       "      <td>A</td>\n",
       "      <td>151315</td>\n",
       "    </tr>\n",
       "    <tr>\n",
       "      <th>1</th>\n",
       "      <td>2</td>\n",
       "      <td>A</td>\n",
       "      <td>202307</td>\n",
       "    </tr>\n",
       "    <tr>\n",
       "      <th>2</th>\n",
       "      <td>3</td>\n",
       "      <td>B</td>\n",
       "      <td>37392</td>\n",
       "    </tr>\n",
       "  </tbody>\n",
       "</table>\n",
       "</div>"
      ],
      "text/plain": [
       "   Store Type    Size\n",
       "0      1    A  151315\n",
       "1      2    A  202307\n",
       "2      3    B   37392"
      ]
     },
     "execution_count": 34,
     "metadata": {},
     "output_type": "execute_result"
    }
   ],
   "source": [
    "stores = pd.read_csv('stores.csv')\n",
    "stores.head(3)"
   ]
  },
  {
   "cell_type": "code",
   "execution_count": null,
   "metadata": {
    "collapsed": false
   },
   "outputs": [],
   "source": []
  },
  {
   "cell_type": "code",
   "execution_count": null,
   "metadata": {
    "collapsed": true
   },
   "outputs": [],
   "source": []
  },
  {
   "cell_type": "code",
   "execution_count": null,
   "metadata": {
    "collapsed": true
   },
   "outputs": [],
   "source": []
  },
  {
   "cell_type": "code",
   "execution_count": null,
   "metadata": {
    "collapsed": true
   },
   "outputs": [],
   "source": []
  },
  {
   "cell_type": "code",
   "execution_count": null,
   "metadata": {
    "collapsed": true
   },
   "outputs": [],
   "source": []
  },
  {
   "cell_type": "code",
   "execution_count": null,
   "metadata": {
    "collapsed": true
   },
   "outputs": [],
   "source": []
  }
 ],
 "metadata": {
  "kernelspec": {
   "display_name": "Python 3",
   "language": "python",
   "name": "python3"
  },
  "language_info": {
   "codemirror_mode": {
    "name": "ipython",
    "version": 3
   },
   "file_extension": ".py",
   "mimetype": "text/x-python",
   "name": "python",
   "nbconvert_exporter": "python",
   "pygments_lexer": "ipython3",
   "version": "3.5.1"
  }
 },
 "nbformat": 4,
 "nbformat_minor": 0
}
