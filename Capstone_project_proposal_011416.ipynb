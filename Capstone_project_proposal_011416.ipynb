{
 "cells": [
  {
   "cell_type": "markdown",
   "metadata": {},
   "source": [
    "Here is my proposal for my capstone project.  The dataset will come from an already completed competition on Kaggle from WalMart:   https://www.kaggle.com/c/walmart-recruiting-store-sales-forecasting\n",
    "\n",
    "**Who:** Retailers with brick-and-mortar stores\n",
    "\n",
    "**Description:** Accurate forecast of sales and the effects of in-store promotions is the holy grail of retailers.  \n",
    "\n",
    "**Questions asked: ** \n",
    "\n",
    "Given a set of dates, stores and departments (within each store), forecast the sales of that department\n",
    "Forecast the difference in sales with and without markdowns \n",
    "\n",
    "**Type of ML problem:** Unknown at this time\n",
    "\n",
    "**Input:** Date, store number, department number, isholiday for select WalMart stores\n",
    "\n",
    "**Features:** Previous store department sales, info about store, cost of fuel and temperature on that day, any markdowns, is or is not a holiday, CPI, unemployment rate.\n",
    "\n",
    "**Output:**  See questions asked.  Both most likely regression problems.\n",
    "\n",
    "**Data collection:** Training data includes date, sales, and store number and department and whether that day corresponds to a holiday.  It can also include any markdowns (promotions) that happened on that day.\n",
    "\n",
    "**How predictions are used:** We apply the model to make predictions of sales for each store and each department and the effects of markdowns.  This helps drive decisions on what promotions to run when as well as inventory planning."
   ]
  },
  {
   "cell_type": "code",
   "execution_count": null,
   "metadata": {
    "collapsed": true
   },
   "outputs": [],
   "source": []
  },
  {
   "cell_type": "code",
   "execution_count": null,
   "metadata": {
    "collapsed": true
   },
   "outputs": [],
   "source": []
  },
  {
   "cell_type": "code",
   "execution_count": null,
   "metadata": {
    "collapsed": true
   },
   "outputs": [],
   "source": []
  },
  {
   "cell_type": "code",
   "execution_count": null,
   "metadata": {
    "collapsed": true
   },
   "outputs": [],
   "source": []
  },
  {
   "cell_type": "code",
   "execution_count": null,
   "metadata": {
    "collapsed": true
   },
   "outputs": [],
   "source": []
  }
 ],
 "metadata": {
  "kernelspec": {
   "display_name": "Python 2",
   "language": "python",
   "name": "python2"
  },
  "language_info": {
   "codemirror_mode": {
    "name": "ipython",
    "version": 2
   },
   "file_extension": ".py",
   "mimetype": "text/x-python",
   "name": "python",
   "nbconvert_exporter": "python",
   "pygments_lexer": "ipython2",
   "version": "2.7.11"
  }
 },
 "nbformat": 4,
 "nbformat_minor": 0
}
